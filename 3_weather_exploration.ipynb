{
 "cells": [
  {
   "cell_type": "code",
   "execution_count": 83,
   "metadata": {},
   "outputs": [],
   "source": [
    "from gcp_interaction import read_blob_to_pandas\n",
    "import json\n",
    "import pandas as pd\n",
    "import seaborn as sns\n",
    "import matplotlib.pyplot as plt\n",
    "from pathlib import Path"
   ]
  },
  {
   "cell_type": "code",
   "execution_count": 2,
   "metadata": {},
   "outputs": [],
   "source": [
    "with open(\"excess-energy-prediction-393ec78547e4.json\", \"r\") as f:\n",
    "    gcp_login_info = json.load(f)\n",
    "with open(\"gcp_info.json\", \"r\") as f:\n",
    "    bucket_name = json.load(f)[\"bucket_name\"]"
   ]
  },
  {
   "cell_type": "code",
   "execution_count": 3,
   "metadata": {},
   "outputs": [],
   "source": [
    "weather_dir = r\"transformed/weather_combined.csv\"\n",
    "df = read_blob_to_pandas(bucket_name, weather_dir, low_memory=False)"
   ]
  },
  {
   "cell_type": "code",
   "execution_count": 4,
   "metadata": {},
   "outputs": [
    {
     "name": "stdout",
     "output_type": "stream",
     "text": [
      "<class 'pandas.core.frame.DataFrame'>\n",
      "RangeIndex: 53240 entries, 0 to 53239\n",
      "Data columns (total 81 columns):\n",
      " #   Column      Non-Null Count  Dtype  \n",
      "---  ------      --------------  -----  \n",
      " 0   date        53240 non-null  object \n",
      " 1   ind_BEL     53240 non-null  int64  \n",
      " 2   rain_BEL    53240 non-null  float64\n",
      " 3   ind.1_BEL   53240 non-null  int64  \n",
      " 4   temp_BEL    53240 non-null  float64\n",
      " 5   ind.2_BEL   53240 non-null  int64  \n",
      " 6   wetb_BEL    53240 non-null  float64\n",
      " 7   dewpt_BEL   53240 non-null  float64\n",
      " 8   vappr_BEL   53240 non-null  float64\n",
      " 9   rhum_BEL    53240 non-null  int64  \n",
      " 10  msl_BEL     53240 non-null  float64\n",
      " 11  ind.3_BEL   53240 non-null  int64  \n",
      " 12  wdsp_BEL    53240 non-null  int64  \n",
      " 13  ind.4_BEL   53240 non-null  int64  \n",
      " 14  wddir_BEL   53240 non-null  int64  \n",
      " 15  ww_BEL      53240 non-null  object \n",
      " 16  w_BEL       53240 non-null  object \n",
      " 17  sun_BEL     53240 non-null  object \n",
      " 18  vis_BEL     53240 non-null  object \n",
      " 19  clht_BEL    53240 non-null  object \n",
      " 20  clamt_BEL   53240 non-null  object \n",
      " 21  ind_DUB     53240 non-null  int64  \n",
      " 22  rain_DUB    53240 non-null  float64\n",
      " 23  ind.1_DUB   53240 non-null  int64  \n",
      " 24  temp_DUB    53240 non-null  float64\n",
      " 25  ind.2_DUB   53240 non-null  int64  \n",
      " 26  wetb_DUB    53240 non-null  float64\n",
      " 27  dewpt_DUB   53240 non-null  float64\n",
      " 28  vappr_DUB   53240 non-null  float64\n",
      " 29  rhum_DUB    53240 non-null  int64  \n",
      " 30  msl_DUB     53240 non-null  float64\n",
      " 31  ind.3_DUB   53240 non-null  int64  \n",
      " 32  wdsp_DUB    53240 non-null  int64  \n",
      " 33  ind.4_DUB   53240 non-null  int64  \n",
      " 34  wddir_DUB   53240 non-null  int64  \n",
      " 35  ww_DUB      53240 non-null  int64  \n",
      " 36  w_DUB       53240 non-null  int64  \n",
      " 37  sun_DUB     53240 non-null  float64\n",
      " 38  vis_DUB     53240 non-null  int64  \n",
      " 39  clht_DUB    53240 non-null  int64  \n",
      " 40  clamt_DUB   53240 non-null  int64  \n",
      " 41  ind_SHAN    53240 non-null  int64  \n",
      " 42  rain_SHAN   53240 non-null  float64\n",
      " 43  ind.1_SHAN  53240 non-null  int64  \n",
      " 44  temp_SHAN   53240 non-null  float64\n",
      " 45  ind.2_SHAN  53240 non-null  int64  \n",
      " 46  wetb_SHAN   53240 non-null  float64\n",
      " 47  dewpt_SHAN  53240 non-null  float64\n",
      " 48  vappr_SHAN  53240 non-null  float64\n",
      " 49  rhum_SHAN   53240 non-null  int64  \n",
      " 50  msl_SHAN    53240 non-null  float64\n",
      " 51  ind.3_SHAN  53240 non-null  int64  \n",
      " 52  wdsp_SHAN   53240 non-null  int64  \n",
      " 53  ind.4_SHAN  53240 non-null  int64  \n",
      " 54  wddir_SHAN  53240 non-null  object \n",
      " 55  ww_SHAN     53240 non-null  int64  \n",
      " 56  w_SHAN      53240 non-null  int64  \n",
      " 57  sun_SHAN    53240 non-null  float64\n",
      " 58  vis_SHAN    53240 non-null  int64  \n",
      " 59  clht_SHAN   53240 non-null  int64  \n",
      " 60  clamt_SHAN  53240 non-null  int64  \n",
      " 61  ind_CORK    53240 non-null  int64  \n",
      " 62  rain_CORK   53240 non-null  float64\n",
      " 63  ind.1_CORK  53240 non-null  int64  \n",
      " 64  temp_CORK   53240 non-null  float64\n",
      " 65  ind.2_CORK  53240 non-null  int64  \n",
      " 66  wetb_CORK   53240 non-null  float64\n",
      " 67  dewpt_CORK  53240 non-null  float64\n",
      " 68  vappr_CORK  53240 non-null  float64\n",
      " 69  rhum_CORK   53240 non-null  int64  \n",
      " 70  msl_CORK    53240 non-null  float64\n",
      " 71  ind.3_CORK  53240 non-null  int64  \n",
      " 72  wdsp_CORK   53240 non-null  int64  \n",
      " 73  ind.4_CORK  53240 non-null  int64  \n",
      " 74  wddir_CORK  53240 non-null  int64  \n",
      " 75  ww_CORK     53240 non-null  int64  \n",
      " 76  w_CORK      53240 non-null  int64  \n",
      " 77  sun_CORK    53240 non-null  float64\n",
      " 78  vis_CORK    53240 non-null  object \n",
      " 79  clht_CORK   53240 non-null  int64  \n",
      " 80  clamt_CORK  53240 non-null  int64  \n",
      "dtypes: float64(27), int64(45), object(9)\n",
      "memory usage: 32.9+ MB\n"
     ]
    }
   ],
   "source": [
    "df.info()"
   ]
  },
  {
   "cell_type": "code",
   "execution_count": 5,
   "metadata": {},
   "outputs": [
    {
     "data": {
      "text/html": [
       "<div>\n",
       "<style scoped>\n",
       "    .dataframe tbody tr th:only-of-type {\n",
       "        vertical-align: middle;\n",
       "    }\n",
       "\n",
       "    .dataframe tbody tr th {\n",
       "        vertical-align: top;\n",
       "    }\n",
       "\n",
       "    .dataframe thead th {\n",
       "        text-align: right;\n",
       "    }\n",
       "</style>\n",
       "<table border=\"1\" class=\"dataframe\">\n",
       "  <thead>\n",
       "    <tr style=\"text-align: right;\">\n",
       "      <th></th>\n",
       "      <th>ind_BEL</th>\n",
       "      <th>rain_BEL</th>\n",
       "      <th>ind.1_BEL</th>\n",
       "      <th>temp_BEL</th>\n",
       "      <th>ind.2_BEL</th>\n",
       "      <th>wetb_BEL</th>\n",
       "      <th>dewpt_BEL</th>\n",
       "      <th>vappr_BEL</th>\n",
       "      <th>rhum_BEL</th>\n",
       "      <th>msl_BEL</th>\n",
       "      <th>...</th>\n",
       "      <th>msl_CORK</th>\n",
       "      <th>ind.3_CORK</th>\n",
       "      <th>wdsp_CORK</th>\n",
       "      <th>ind.4_CORK</th>\n",
       "      <th>wddir_CORK</th>\n",
       "      <th>ww_CORK</th>\n",
       "      <th>w_CORK</th>\n",
       "      <th>sun_CORK</th>\n",
       "      <th>clht_CORK</th>\n",
       "      <th>clamt_CORK</th>\n",
       "    </tr>\n",
       "  </thead>\n",
       "  <tbody>\n",
       "    <tr>\n",
       "      <th>count</th>\n",
       "      <td>53240.0</td>\n",
       "      <td>53240.000000</td>\n",
       "      <td>53240.0</td>\n",
       "      <td>53240.000000</td>\n",
       "      <td>53240.0</td>\n",
       "      <td>53240.000000</td>\n",
       "      <td>53240.000000</td>\n",
       "      <td>53240.000000</td>\n",
       "      <td>53240.000000</td>\n",
       "      <td>53240.000000</td>\n",
       "      <td>...</td>\n",
       "      <td>53240.000000</td>\n",
       "      <td>53240.000000</td>\n",
       "      <td>53240.000000</td>\n",
       "      <td>53240.000000</td>\n",
       "      <td>53240.000000</td>\n",
       "      <td>53240.000000</td>\n",
       "      <td>53240.000000</td>\n",
       "      <td>53240.000000</td>\n",
       "      <td>53240.000000</td>\n",
       "      <td>53240.000000</td>\n",
       "    </tr>\n",
       "    <tr>\n",
       "      <th>mean</th>\n",
       "      <td>0.0</td>\n",
       "      <td>0.152740</td>\n",
       "      <td>0.0</td>\n",
       "      <td>10.539632</td>\n",
       "      <td>0.0</td>\n",
       "      <td>9.122485</td>\n",
       "      <td>7.524267</td>\n",
       "      <td>10.765147</td>\n",
       "      <td>81.911927</td>\n",
       "      <td>1012.067305</td>\n",
       "      <td>...</td>\n",
       "      <td>1014.396153</td>\n",
       "      <td>1.998948</td>\n",
       "      <td>9.724699</td>\n",
       "      <td>1.998948</td>\n",
       "      <td>213.138054</td>\n",
       "      <td>16.520661</td>\n",
       "      <td>32.079395</td>\n",
       "      <td>0.171232</td>\n",
       "      <td>286.107344</td>\n",
       "      <td>5.529602</td>\n",
       "    </tr>\n",
       "    <tr>\n",
       "      <th>std</th>\n",
       "      <td>0.0</td>\n",
       "      <td>0.503739</td>\n",
       "      <td>0.0</td>\n",
       "      <td>3.969103</td>\n",
       "      <td>0.0</td>\n",
       "      <td>3.776028</td>\n",
       "      <td>4.231855</td>\n",
       "      <td>3.036890</td>\n",
       "      <td>11.135068</td>\n",
       "      <td>13.275289</td>\n",
       "      <td>...</td>\n",
       "      <td>12.200100</td>\n",
       "      <td>0.051997</td>\n",
       "      <td>5.092314</td>\n",
       "      <td>0.051997</td>\n",
       "      <td>84.496627</td>\n",
       "      <td>23.103745</td>\n",
       "      <td>27.868446</td>\n",
       "      <td>0.331517</td>\n",
       "      <td>419.439877</td>\n",
       "      <td>2.381666</td>\n",
       "    </tr>\n",
       "    <tr>\n",
       "      <th>min</th>\n",
       "      <td>0.0</td>\n",
       "      <td>0.000000</td>\n",
       "      <td>0.0</td>\n",
       "      <td>-3.300000</td>\n",
       "      <td>0.0</td>\n",
       "      <td>-4.400000</td>\n",
       "      <td>-9.700000</td>\n",
       "      <td>2.900000</td>\n",
       "      <td>24.000000</td>\n",
       "      <td>959.100000</td>\n",
       "      <td>...</td>\n",
       "      <td>967.700000</td>\n",
       "      <td>0.000000</td>\n",
       "      <td>0.000000</td>\n",
       "      <td>0.000000</td>\n",
       "      <td>0.000000</td>\n",
       "      <td>1.000000</td>\n",
       "      <td>0.000000</td>\n",
       "      <td>0.000000</td>\n",
       "      <td>1.000000</td>\n",
       "      <td>0.000000</td>\n",
       "    </tr>\n",
       "    <tr>\n",
       "      <th>25%</th>\n",
       "      <td>0.0</td>\n",
       "      <td>0.000000</td>\n",
       "      <td>0.0</td>\n",
       "      <td>7.800000</td>\n",
       "      <td>0.0</td>\n",
       "      <td>6.400000</td>\n",
       "      <td>4.400000</td>\n",
       "      <td>8.300000</td>\n",
       "      <td>74.000000</td>\n",
       "      <td>1003.400000</td>\n",
       "      <td>...</td>\n",
       "      <td>1006.900000</td>\n",
       "      <td>2.000000</td>\n",
       "      <td>6.000000</td>\n",
       "      <td>2.000000</td>\n",
       "      <td>160.000000</td>\n",
       "      <td>2.000000</td>\n",
       "      <td>11.000000</td>\n",
       "      <td>0.000000</td>\n",
       "      <td>11.000000</td>\n",
       "      <td>4.000000</td>\n",
       "    </tr>\n",
       "    <tr>\n",
       "      <th>50%</th>\n",
       "      <td>0.0</td>\n",
       "      <td>0.000000</td>\n",
       "      <td>0.0</td>\n",
       "      <td>10.500000</td>\n",
       "      <td>0.0</td>\n",
       "      <td>9.300000</td>\n",
       "      <td>7.800000</td>\n",
       "      <td>10.600000</td>\n",
       "      <td>84.000000</td>\n",
       "      <td>1013.600000</td>\n",
       "      <td>...</td>\n",
       "      <td>1015.800000</td>\n",
       "      <td>2.000000</td>\n",
       "      <td>9.000000</td>\n",
       "      <td>2.000000</td>\n",
       "      <td>220.000000</td>\n",
       "      <td>2.000000</td>\n",
       "      <td>11.000000</td>\n",
       "      <td>0.000000</td>\n",
       "      <td>35.000000</td>\n",
       "      <td>7.000000</td>\n",
       "    </tr>\n",
       "    <tr>\n",
       "      <th>75%</th>\n",
       "      <td>0.0</td>\n",
       "      <td>0.000000</td>\n",
       "      <td>0.0</td>\n",
       "      <td>13.500000</td>\n",
       "      <td>0.0</td>\n",
       "      <td>11.900000</td>\n",
       "      <td>10.600000</td>\n",
       "      <td>12.800000</td>\n",
       "      <td>91.000000</td>\n",
       "      <td>1021.600000</td>\n",
       "      <td>...</td>\n",
       "      <td>1022.800000</td>\n",
       "      <td>2.000000</td>\n",
       "      <td>13.000000</td>\n",
       "      <td>2.000000</td>\n",
       "      <td>280.000000</td>\n",
       "      <td>25.000000</td>\n",
       "      <td>62.000000</td>\n",
       "      <td>0.100000</td>\n",
       "      <td>999.000000</td>\n",
       "      <td>7.000000</td>\n",
       "    </tr>\n",
       "    <tr>\n",
       "      <th>max</th>\n",
       "      <td>0.0</td>\n",
       "      <td>14.900000</td>\n",
       "      <td>0.0</td>\n",
       "      <td>28.000000</td>\n",
       "      <td>0.0</td>\n",
       "      <td>22.100000</td>\n",
       "      <td>19.400000</td>\n",
       "      <td>22.500000</td>\n",
       "      <td>100.000000</td>\n",
       "      <td>1050.600000</td>\n",
       "      <td>...</td>\n",
       "      <td>1048.900000</td>\n",
       "      <td>6.000000</td>\n",
       "      <td>43.000000</td>\n",
       "      <td>6.000000</td>\n",
       "      <td>360.000000</td>\n",
       "      <td>97.000000</td>\n",
       "      <td>98.000000</td>\n",
       "      <td>1.000000</td>\n",
       "      <td>999.000000</td>\n",
       "      <td>8.000000</td>\n",
       "    </tr>\n",
       "  </tbody>\n",
       "</table>\n",
       "<p>8 rows × 72 columns</p>\n",
       "</div>"
      ],
      "text/plain": [
       "       ind_BEL      rain_BEL  ind.1_BEL      temp_BEL  ind.2_BEL  \\\n",
       "count  53240.0  53240.000000    53240.0  53240.000000    53240.0   \n",
       "mean       0.0      0.152740        0.0     10.539632        0.0   \n",
       "std        0.0      0.503739        0.0      3.969103        0.0   \n",
       "min        0.0      0.000000        0.0     -3.300000        0.0   \n",
       "25%        0.0      0.000000        0.0      7.800000        0.0   \n",
       "50%        0.0      0.000000        0.0     10.500000        0.0   \n",
       "75%        0.0      0.000000        0.0     13.500000        0.0   \n",
       "max        0.0     14.900000        0.0     28.000000        0.0   \n",
       "\n",
       "           wetb_BEL     dewpt_BEL     vappr_BEL      rhum_BEL       msl_BEL  \\\n",
       "count  53240.000000  53240.000000  53240.000000  53240.000000  53240.000000   \n",
       "mean       9.122485      7.524267     10.765147     81.911927   1012.067305   \n",
       "std        3.776028      4.231855      3.036890     11.135068     13.275289   \n",
       "min       -4.400000     -9.700000      2.900000     24.000000    959.100000   \n",
       "25%        6.400000      4.400000      8.300000     74.000000   1003.400000   \n",
       "50%        9.300000      7.800000     10.600000     84.000000   1013.600000   \n",
       "75%       11.900000     10.600000     12.800000     91.000000   1021.600000   \n",
       "max       22.100000     19.400000     22.500000    100.000000   1050.600000   \n",
       "\n",
       "       ...      msl_CORK    ind.3_CORK     wdsp_CORK    ind.4_CORK  \\\n",
       "count  ...  53240.000000  53240.000000  53240.000000  53240.000000   \n",
       "mean   ...   1014.396153      1.998948      9.724699      1.998948   \n",
       "std    ...     12.200100      0.051997      5.092314      0.051997   \n",
       "min    ...    967.700000      0.000000      0.000000      0.000000   \n",
       "25%    ...   1006.900000      2.000000      6.000000      2.000000   \n",
       "50%    ...   1015.800000      2.000000      9.000000      2.000000   \n",
       "75%    ...   1022.800000      2.000000     13.000000      2.000000   \n",
       "max    ...   1048.900000      6.000000     43.000000      6.000000   \n",
       "\n",
       "         wddir_CORK       ww_CORK        w_CORK      sun_CORK     clht_CORK  \\\n",
       "count  53240.000000  53240.000000  53240.000000  53240.000000  53240.000000   \n",
       "mean     213.138054     16.520661     32.079395      0.171232    286.107344   \n",
       "std       84.496627     23.103745     27.868446      0.331517    419.439877   \n",
       "min        0.000000      1.000000      0.000000      0.000000      1.000000   \n",
       "25%      160.000000      2.000000     11.000000      0.000000     11.000000   \n",
       "50%      220.000000      2.000000     11.000000      0.000000     35.000000   \n",
       "75%      280.000000     25.000000     62.000000      0.100000    999.000000   \n",
       "max      360.000000     97.000000     98.000000      1.000000    999.000000   \n",
       "\n",
       "         clamt_CORK  \n",
       "count  53240.000000  \n",
       "mean       5.529602  \n",
       "std        2.381666  \n",
       "min        0.000000  \n",
       "25%        4.000000  \n",
       "50%        7.000000  \n",
       "75%        7.000000  \n",
       "max        8.000000  \n",
       "\n",
       "[8 rows x 72 columns]"
      ]
     },
     "execution_count": 5,
     "metadata": {},
     "output_type": "execute_result"
    }
   ],
   "source": [
    "df.describe()"
   ]
  },
  {
   "attachments": {},
   "cell_type": "markdown",
   "metadata": {},
   "source": [
    "Let's check the data dictionary to see what these features are. \n",
    "There's lots of information included in the KeyHourly.txt file but this is what we're most interested in. \n",
    "\n",
    "| ID          | Element                    | Unit  |\n",
    "|-------------|----------------------------|-------|\n",
    "| rain        | Precipitation Amount       | (mm)  |\n",
    "| temp        | Air Temperature            | (°C)  |\n",
    "| wetb        | Wet Bulb Air Temperature   | (°C)  |\n",
    "| dewpt       | Dew Point Air Temperature  | (°C)  |\n",
    "| vappr       | Vapour Pressure            | (hpa) |\n",
    "| rhum        | Relative Humidity          |  (%)  |\n",
    "| msl         | Mean Sea Level Pressure    | (hPa) |\n",
    "| wdsp        | Mean Hourly Wind Speed     | (kt)  |\n"
   ]
  },
  {
   "attachments": {},
   "cell_type": "markdown",
   "metadata": {},
   "source": [
    "No info on the IND columns, let's look closer. "
   ]
  },
  {
   "cell_type": "code",
   "execution_count": 17,
   "metadata": {},
   "outputs": [
    {
     "name": "stdout",
     "output_type": "stream",
     "text": [
      "[0]\n",
      "[0 3 2 1]\n"
     ]
    }
   ],
   "source": [
    "print(df['ind_BEL'].unique())\n",
    "print(df['ind_CORK'].unique())"
   ]
  },
  {
   "attachments": {},
   "cell_type": "markdown",
   "metadata": {},
   "source": [
    "Not sure what these represent, perhaps some sort of indicator - I'm going to drop them for now. "
   ]
  },
  {
   "cell_type": "code",
   "execution_count": 23,
   "metadata": {},
   "outputs": [],
   "source": [
    "to_drop = [x for x in df.columns if \"ind\" in x]\n",
    "df = df.drop(to_drop, axis = 1)"
   ]
  },
  {
   "attachments": {},
   "cell_type": "markdown",
   "metadata": {},
   "source": [
    "# Exploration"
   ]
  },
  {
   "cell_type": "code",
   "execution_count": 88,
   "metadata": {},
   "outputs": [
    {
     "data": {
      "text/plain": [
       "0"
      ]
     },
     "execution_count": 88,
     "metadata": {},
     "output_type": "execute_result"
    }
   ],
   "source": [
    "# Do we have a full dataset?\n",
    "df.isna().sum().sum()"
   ]
  },
  {
   "attachments": {},
   "cell_type": "markdown",
   "metadata": {},
   "source": [
    "# Plots"
   ]
  },
  {
   "attachments": {},
   "cell_type": "markdown",
   "metadata": {},
   "source": [
    "Let's look at the distribution of temperature for our sites and see if it looks reasonable. "
   ]
  },
  {
   "cell_type": "code",
   "execution_count": 25,
   "metadata": {},
   "outputs": [
    {
     "data": {
      "text/plain": [
       "Index(['date', 'rain_BEL', 'temp_BEL', 'wetb_BEL', 'dewpt_BEL', 'vappr_BEL',\n",
       "       'rhum_BEL', 'msl_BEL', 'wdsp_BEL', 'wddir_BEL', 'ww_BEL', 'w_BEL',\n",
       "       'sun_BEL', 'vis_BEL', 'clht_BEL', 'clamt_BEL', 'rain_DUB', 'temp_DUB',\n",
       "       'wetb_DUB', 'dewpt_DUB', 'vappr_DUB', 'rhum_DUB', 'msl_DUB', 'wdsp_DUB',\n",
       "       'wddir_DUB', 'ww_DUB', 'w_DUB', 'sun_DUB', 'vis_DUB', 'clht_DUB',\n",
       "       'clamt_DUB', 'rain_SHAN', 'temp_SHAN', 'wetb_SHAN', 'dewpt_SHAN',\n",
       "       'vappr_SHAN', 'rhum_SHAN', 'msl_SHAN', 'wdsp_SHAN', 'wddir_SHAN',\n",
       "       'ww_SHAN', 'w_SHAN', 'sun_SHAN', 'vis_SHAN', 'clht_SHAN', 'clamt_SHAN',\n",
       "       'rain_CORK', 'temp_CORK', 'wetb_CORK', 'dewpt_CORK', 'vappr_CORK',\n",
       "       'rhum_CORK', 'msl_CORK', 'wdsp_CORK', 'wddir_CORK', 'ww_CORK', 'w_CORK',\n",
       "       'sun_CORK', 'vis_CORK', 'clht_CORK', 'clamt_CORK'],\n",
       "      dtype='object')"
      ]
     },
     "execution_count": 25,
     "metadata": {},
     "output_type": "execute_result"
    }
   ],
   "source": [
    "df.columns"
   ]
  },
  {
   "cell_type": "code",
   "execution_count": 64,
   "metadata": {},
   "outputs": [],
   "source": [
    "df_temp = pd.concat([df['date'], \n",
    "                     df['temp_DUB'], \n",
    "                     df['temp_SHAN'], \n",
    "                     df['temp_CORK'], \n",
    "                     df['temp_BEL']], \n",
    "                    axis = 1)\n",
    "df_temp_mdf = pd.melt(df_temp, id_vars = 'date')\n",
    "df_temp_mdf = df_temp_mdf.replace({'temp_DUB':'Dublin', \n",
    "                                   'temp_SHAN':'Shannon', \n",
    "                                   'temp_CORK':'Cork',\n",
    "                                   'temp_BEL':'Belmullet'})"
   ]
  },
  {
   "cell_type": "code",
   "execution_count": 84,
   "metadata": {},
   "outputs": [
    {
     "data": {
      "image/png": "[encoded data removed]",
      "text/plain": [
       "<Figure size 1200x400 with 1 Axes>"
      ]
     },
     "metadata": {},
     "output_type": "display_data"
    }
   ],
   "source": [
    "fig, ax = plt.subplots(figsize = (12,4))\n",
    "temp_plot = sns.boxplot(data = df_temp_mdf, x = 'value', y = 'variable', ax =ax).set(\n",
    "    xlabel='Temperature (°C)', \n",
    "    ylabel='City', \n",
    "    title = 'Temperature range from 2017 - 2023'\n",
    ")\n",
    "plt.savefig(Path('Outputs', 'Plots', 'temp_boxplot.png'), facecolor = 'white')"
   ]
  },
  {
   "attachments": {},
   "cell_type": "markdown",
   "metadata": {},
   "source": [
    "# Windspeed"
   ]
  },
  {
   "cell_type": "code",
   "execution_count": 66,
   "metadata": {},
   "outputs": [],
   "source": [
    "df_wdsp = pd.concat([df['date'], \n",
    "                     df['wdsp_DUB'], \n",
    "                     df['wdsp_SHAN'], \n",
    "                     df['wdsp_CORK'], \n",
    "                     df['wdsp_BEL']], \n",
    "                    axis = 1)\n",
    "df_wdsp_mdf = pd.melt(df_wdsp, id_vars = 'date')\n",
    "df_wdsp_mdf = df_wdsp_mdf.replace({'wdsp_DUB':'Dublin', \n",
    "                                   'wdsp_SHAN':'Shannon', \n",
    "                                   'wdsp_CORK':'Cork',\n",
    "                                   'wdsp_BEL':'Belmullet'})"
   ]
  },
  {
   "cell_type": "code",
   "execution_count": 85,
   "metadata": {},
   "outputs": [
    {
     "data": {
      "image/png": "[encoded data removed]",
      "text/plain": [
       "<Figure size 1200x400 with 1 Axes>"
      ]
     },
     "metadata": {},
     "output_type": "display_data"
    }
   ],
   "source": [
    "fig, ax = plt.subplots(figsize = (12,4))\n",
    "wind_plot = sns.boxplot(data = df_wdsp_mdf, x = 'value', y = 'variable', ax =ax).set(\n",
    "    xlabel='Windspeed (knots)', \n",
    "    ylabel='City', \n",
    "    title = 'Mean Hourly Windspeed range from 2017 - 2023'\n",
    ")\n",
    "plt.savefig(Path('Outputs', 'Plots', 'windspeed_boxplot.png'), facecolor = 'white')"
   ]
  },
  {
   "attachments": {},
   "cell_type": "markdown",
   "metadata": {},
   "source": [
    "# Rain"
   ]
  },
  {
   "cell_type": "code",
   "execution_count": 70,
   "metadata": {},
   "outputs": [],
   "source": [
    "df_rain = pd.concat([df['date'], \n",
    "                     df['rain_DUB'], \n",
    "                     df['rain_SHAN'], \n",
    "                     df['rain_CORK'], \n",
    "                     df['rain_BEL']], \n",
    "                    axis = 1)\n",
    "df_rain_mdf = pd.melt(df_rain, id_vars = 'date')\n",
    "df_rain_mdf = df_rain_mdf.replace({'rain_DUB':'Dublin', \n",
    "                                   'rain_SHAN':'Shannon', \n",
    "                                   'rain_CORK':'Cork',\n",
    "                                   'rain_BEL':'Belmullet'})"
   ]
  },
  {
   "cell_type": "code",
   "execution_count": 86,
   "metadata": {},
   "outputs": [
    {
     "data": {
      "image/png": "[encoded data removed]",
      "text/plain": [
       "<Figure size 1200x400 with 1 Axes>"
      ]
     },
     "metadata": {},
     "output_type": "display_data"
    }
   ],
   "source": [
    "fig, ax = plt.subplots(figsize = (12,4))\n",
    "rain_plot = sns.boxplot(data = df_rain_mdf, x = 'value', y = 'variable', ax =ax).set(\n",
    "    xlabel='Precipitation (mm)', \n",
    "    ylabel='City', \n",
    "    title = 'Precipitation range from 2017 - 2023'\n",
    ")\n",
    "plt.savefig(Path('Outputs', 'Plots', 'rain_boxplot.png'), facecolor = 'white')"
   ]
  },
  {
   "cell_type": "code",
   "execution_count": null,
   "metadata": {},
   "outputs": [],
   "source": []
  }
 ],
 "metadata": {
  "kernelspec": {
   "display_name": "energy",
   "language": "python",
   "name": "python3"
  },
  "language_info": {
   "codemirror_mode": {
    "name": "ipython",
    "version": 3
   },
   "file_extension": ".py",
   "mimetype": "text/x-python",
   "name": "python",
   "nbconvert_exporter": "python",
   "pygments_lexer": "ipython3",
   "version": "3.10.9"
  },
  "orig_nbformat": 4,
  "vscode": {
   "interpreter": {
    "hash": "615d221a9ceee56c45717180d0e45e4f48445eec22bbc2adcd283093611382ad"
   }
  }
 },
 "nbformat": 4,
 "nbformat_minor": 2
}
