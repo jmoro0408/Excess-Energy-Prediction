{
 "cells": [
  {
   "cell_type": "code",
   "execution_count": 91,
   "metadata": {},
   "outputs": [],
   "source": [
    "from gcp_interaction import read_blob_to_pandas, write_to_blob_csv\n",
    "import json\n",
    "import pandas as pd\n",
    "import numpy as np"
   ]
  },
  {
   "cell_type": "code",
   "execution_count": 92,
   "metadata": {},
   "outputs": [],
   "source": [
    "with open(\"excess-energy-prediction-393ec78547e4.json\", \"r\") as f:\n",
    "    gcp_login_info = json.load(f)\n",
    "with open(\"gcp_info.json\", \"r\") as f:\n",
    "    bucket_name = json.load(f)[\"bucket_name\"]"
   ]
  },
  {
   "attachments": {},
   "cell_type": "markdown",
   "metadata": {},
   "source": [
    "# Actual Demand"
   ]
  },
  {
   "cell_type": "code",
   "execution_count": 93,
   "metadata": {},
   "outputs": [],
   "source": [
    "# Example URL 'Raw_Data/EirGrid/ALL/demandActual/2017/demandActual_ALL_2017_Apr.csv'\n",
    "base_url = r\"Raw_Data/EirGrid/ALL/demandActual\"\n",
    "years = ['2017', '2018', '2019', '2020']\n",
    "months = ['Jan', 'Feb', 'Mar', 'Apr', 'May', 'Jun', 'Jul', 'Aug', 'Sep', 'Oct', 'Nov', 'Dec']"
   ]
  },
  {
   "cell_type": "code",
   "execution_count": 94,
   "metadata": {},
   "outputs": [],
   "source": [
    "dfs = []\n",
    "for year in years:\n",
    "    for month in months:\n",
    "        url = base_url+\"/\"+year+\"/\"+\"demandActual\"+\"_ALL\"+\"_\"+year+\"_\"+month+\".csv\"\n",
    "        dfs.append(read_blob_to_pandas(bucket_name, url))"
   ]
  },
  {
   "cell_type": "code",
   "execution_count": 95,
   "metadata": {},
   "outputs": [
    {
     "name": "stdout",
     "output_type": "stream",
     "text": [
      "<class 'pandas.core.frame.DataFrame'>\n",
      "Int64Index: 140256 entries, 0 to 2975\n",
      "Data columns (total 5 columns):\n",
      " #   Column                Non-Null Count   Dtype \n",
      "---  ------                --------------   ----- \n",
      " 0   Unnamed: 0            140256 non-null  int64 \n",
      " 1   DATE & TIME           140256 non-null  object\n",
      " 2    ACTUAL DEMAND(MW)    140256 non-null  object\n",
      " 3    FORECAST DEMAND(MW)  140256 non-null  object\n",
      " 4    REGION               140256 non-null  object\n",
      "dtypes: int64(1), object(4)\n",
      "memory usage: 6.4+ MB\n"
     ]
    }
   ],
   "source": [
    "demand_df = pd.concat(dfs)\n",
    "demand_df.info()"
   ]
  },
  {
   "cell_type": "code",
   "execution_count": 96,
   "metadata": {},
   "outputs": [
    {
     "data": {
      "text/plain": [
       "0"
      ]
     },
     "execution_count": 96,
     "metadata": {},
     "output_type": "execute_result"
    }
   ],
   "source": [
    "demand_df.isna().sum().sum()"
   ]
  },
  {
   "cell_type": "code",
   "execution_count": 97,
   "metadata": {},
   "outputs": [
    {
     "data": {
      "text/plain": [
       "Unnamed: 0                2976\n",
       "DATE & TIME             140256\n",
       " ACTUAL DEMAND(MW)        7501\n",
       " FORECAST DEMAND(MW)         1\n",
       " REGION                      1\n",
       "dtype: int64"
      ]
     },
     "execution_count": 97,
     "metadata": {},
     "output_type": "execute_result"
    }
   ],
   "source": [
    "demand_df.nunique()"
   ]
  },
  {
   "attachments": {},
   "cell_type": "markdown",
   "metadata": {},
   "source": [
    "No info for forecast demand so I'm going to drop it. "
   ]
  },
  {
   "cell_type": "code",
   "execution_count": 98,
   "metadata": {},
   "outputs": [],
   "source": [
    "demand_df = demand_df.drop(['Unnamed: 0', ' FORECAST DEMAND(MW)'], axis = 1, errors = 'ignore')\n",
    "demand_df[\"DATE & TIME\"] = pd.to_datetime(demand_df[\"DATE & TIME\"], infer_datetime_format=True, errors=\"ignore\")\n",
    "demand_df = demand_df.rename(columns=lambda x: x.strip())"
   ]
  },
  {
   "cell_type": "code",
   "execution_count": 99,
   "metadata": {},
   "outputs": [
    {
     "name": "stdout",
     "output_type": "stream",
     "text": [
      "<class 'pandas.core.frame.DataFrame'>\n",
      "Int64Index: 140256 entries, 0 to 2975\n",
      "Data columns (total 3 columns):\n",
      " #   Column             Non-Null Count   Dtype         \n",
      "---  ------             --------------   -----         \n",
      " 0   DATE & TIME        140256 non-null  datetime64[ns]\n",
      " 1   ACTUAL DEMAND(MW)  140256 non-null  object        \n",
      " 2   REGION             140256 non-null  object        \n",
      "dtypes: datetime64[ns](1), object(2)\n",
      "memory usage: 4.3+ MB\n"
     ]
    }
   ],
   "source": [
    "demand_df.info()"
   ]
  },
  {
   "cell_type": "code",
   "execution_count": 100,
   "metadata": {},
   "outputs": [
    {
     "data": {
      "text/html": [
       "<div>\n",
       "<style scoped>\n",
       "    .dataframe tbody tr th:only-of-type {\n",
       "        vertical-align: middle;\n",
       "    }\n",
       "\n",
       "    .dataframe tbody tr th {\n",
       "        vertical-align: top;\n",
       "    }\n",
       "\n",
       "    .dataframe thead th {\n",
       "        text-align: right;\n",
       "    }\n",
       "</style>\n",
       "<table border=\"1\" class=\"dataframe\">\n",
       "  <thead>\n",
       "    <tr style=\"text-align: right;\">\n",
       "      <th></th>\n",
       "      <th>DATE &amp; TIME</th>\n",
       "      <th>ACTUAL DEMAND(MW)</th>\n",
       "      <th>REGION</th>\n",
       "    </tr>\n",
       "  </thead>\n",
       "  <tbody>\n",
       "    <tr>\n",
       "      <th>0</th>\n",
       "      <td>2017-01-01 00:00:00</td>\n",
       "      <td>3696</td>\n",
       "      <td>All Island</td>\n",
       "    </tr>\n",
       "    <tr>\n",
       "      <th>1</th>\n",
       "      <td>2017-01-01 00:15:00</td>\n",
       "      <td>3661</td>\n",
       "      <td>All Island</td>\n",
       "    </tr>\n",
       "    <tr>\n",
       "      <th>2</th>\n",
       "      <td>2017-01-01 00:30:00</td>\n",
       "      <td>3622</td>\n",
       "      <td>All Island</td>\n",
       "    </tr>\n",
       "    <tr>\n",
       "      <th>3</th>\n",
       "      <td>2017-01-01 00:45:00</td>\n",
       "      <td>3492</td>\n",
       "      <td>All Island</td>\n",
       "    </tr>\n",
       "    <tr>\n",
       "      <th>4</th>\n",
       "      <td>2017-01-01 01:00:00</td>\n",
       "      <td>3457</td>\n",
       "      <td>All Island</td>\n",
       "    </tr>\n",
       "  </tbody>\n",
       "</table>\n",
       "</div>"
      ],
      "text/plain": [
       "          DATE & TIME ACTUAL DEMAND(MW)      REGION\n",
       "0 2017-01-01 00:00:00              3696  All Island\n",
       "1 2017-01-01 00:15:00              3661  All Island\n",
       "2 2017-01-01 00:30:00              3622  All Island\n",
       "3 2017-01-01 00:45:00              3492  All Island\n",
       "4 2017-01-01 01:00:00              3457  All Island"
      ]
     },
     "execution_count": 100,
     "metadata": {},
     "output_type": "execute_result"
    }
   ],
   "source": [
    "demand_df.head()"
   ]
  },
  {
   "cell_type": "code",
   "execution_count": 101,
   "metadata": {},
   "outputs": [
    {
     "name": "stdout",
     "output_type": "stream",
     "text": [
      "transformed/demand.csv uploaded to <Bucket: excess-energy-raw-data>\n"
     ]
    }
   ],
   "source": [
    "write_to_blob_csv(\n",
    "    bucket_name=bucket_name, df=demand_df, filepath=\"transformed/demand.csv\")"
   ]
  },
  {
   "attachments": {},
   "cell_type": "markdown",
   "metadata": {},
   "source": [
    "# Actual Generation"
   ]
  },
  {
   "cell_type": "code",
   "execution_count": 102,
   "metadata": {},
   "outputs": [],
   "source": [
    "# Example URL 'Raw_Data/EirGrid/ALL/demandActual/2017/demandActual_ALL_2017_Apr.csv'\n",
    "base_url = r\"Raw_Data/EirGrid/ALL/generationActual\"\n",
    "years = ['2017', '2018', '2019', '2020']\n",
    "months = ['Jan', 'Feb', 'Mar', 'Apr', 'May', 'Jun', 'Jul', 'Aug', 'Sep', 'Oct', 'Nov', 'Dec']"
   ]
  },
  {
   "cell_type": "code",
   "execution_count": 103,
   "metadata": {},
   "outputs": [],
   "source": [
    "dfs = []\n",
    "for year in years:\n",
    "    for month in months:\n",
    "        url = base_url+\"/\"+year+\"/\"+\"generationActual\"+\"_ALL\"+\"_\"+year+\"_\"+month+\".csv\"\n",
    "        dfs.append(read_blob_to_pandas(bucket_name, url))"
   ]
  },
  {
   "cell_type": "code",
   "execution_count": 104,
   "metadata": {},
   "outputs": [
    {
     "name": "stdout",
     "output_type": "stream",
     "text": [
      "<class 'pandas.core.frame.DataFrame'>\n",
      "Int64Index: 140256 entries, 0 to 2975\n",
      "Data columns (total 4 columns):\n",
      " #   Column                  Non-Null Count   Dtype  \n",
      "---  ------                  --------------   -----  \n",
      " 0   Unnamed: 0              140256 non-null  int64  \n",
      " 1   DATE & TIME             140256 non-null  object \n",
      " 2    ACTUAL GENERATION(MW)  140190 non-null  float64\n",
      " 3    REGION                 140256 non-null  object \n",
      "dtypes: float64(1), int64(1), object(2)\n",
      "memory usage: 5.4+ MB\n"
     ]
    }
   ],
   "source": [
    "generation_df = pd.concat(dfs)\n",
    "generation_df.info()"
   ]
  },
  {
   "attachments": {},
   "cell_type": "markdown",
   "metadata": {},
   "source": [
    "## Filling NAs"
   ]
  },
  {
   "cell_type": "code",
   "execution_count": 105,
   "metadata": {},
   "outputs": [
    {
     "data": {
      "text/plain": [
       "Unnamed: 0                 0\n",
       "DATE & TIME                0\n",
       " ACTUAL GENERATION(MW)    66\n",
       " REGION                    0\n",
       "dtype: int64"
      ]
     },
     "execution_count": 105,
     "metadata": {},
     "output_type": "execute_result"
    }
   ],
   "source": [
    "generation_df.isna().sum()"
   ]
  },
  {
   "cell_type": "code",
   "execution_count": 106,
   "metadata": {},
   "outputs": [
    {
     "data": {
      "text/html": [
       "<div>\n",
       "<style scoped>\n",
       "    .dataframe tbody tr th:only-of-type {\n",
       "        vertical-align: middle;\n",
       "    }\n",
       "\n",
       "    .dataframe tbody tr th {\n",
       "        vertical-align: top;\n",
       "    }\n",
       "\n",
       "    .dataframe thead th {\n",
       "        text-align: right;\n",
       "    }\n",
       "</style>\n",
       "<table border=\"1\" class=\"dataframe\">\n",
       "  <thead>\n",
       "    <tr style=\"text-align: right;\">\n",
       "      <th></th>\n",
       "      <th>Unnamed: 0</th>\n",
       "      <th>DATE &amp; TIME</th>\n",
       "      <th>ACTUAL GENERATION(MW)</th>\n",
       "      <th>REGION</th>\n",
       "    </tr>\n",
       "  </thead>\n",
       "  <tbody>\n",
       "    <tr>\n",
       "      <th>2404</th>\n",
       "      <td>2404</td>\n",
       "      <td>26 March 2017 01:00</td>\n",
       "      <td>NaN</td>\n",
       "      <td>All Island</td>\n",
       "    </tr>\n",
       "    <tr>\n",
       "      <th>2405</th>\n",
       "      <td>2405</td>\n",
       "      <td>26 March 2017 01:15</td>\n",
       "      <td>NaN</td>\n",
       "      <td>All Island</td>\n",
       "    </tr>\n",
       "    <tr>\n",
       "      <th>2406</th>\n",
       "      <td>2406</td>\n",
       "      <td>26 March 2017 01:30</td>\n",
       "      <td>NaN</td>\n",
       "      <td>All Island</td>\n",
       "    </tr>\n",
       "    <tr>\n",
       "      <th>2407</th>\n",
       "      <td>2407</td>\n",
       "      <td>26 March 2017 01:45</td>\n",
       "      <td>NaN</td>\n",
       "      <td>All Island</td>\n",
       "    </tr>\n",
       "    <tr>\n",
       "      <th>2116</th>\n",
       "      <td>2116</td>\n",
       "      <td>23 June 2017 01:00</td>\n",
       "      <td>NaN</td>\n",
       "      <td>All Island</td>\n",
       "    </tr>\n",
       "    <tr>\n",
       "      <th>...</th>\n",
       "      <td>...</td>\n",
       "      <td>...</td>\n",
       "      <td>...</td>\n",
       "      <td>...</td>\n",
       "    </tr>\n",
       "    <tr>\n",
       "      <th>2692</th>\n",
       "      <td>2692</td>\n",
       "      <td>29 March 2020 01:00</td>\n",
       "      <td>NaN</td>\n",
       "      <td>All Island</td>\n",
       "    </tr>\n",
       "    <tr>\n",
       "      <th>2693</th>\n",
       "      <td>2693</td>\n",
       "      <td>29 March 2020 01:15</td>\n",
       "      <td>NaN</td>\n",
       "      <td>All Island</td>\n",
       "    </tr>\n",
       "    <tr>\n",
       "      <th>2694</th>\n",
       "      <td>2694</td>\n",
       "      <td>29 March 2020 01:30</td>\n",
       "      <td>NaN</td>\n",
       "      <td>All Island</td>\n",
       "    </tr>\n",
       "    <tr>\n",
       "      <th>2695</th>\n",
       "      <td>2695</td>\n",
       "      <td>29 March 2020 01:45</td>\n",
       "      <td>NaN</td>\n",
       "      <td>All Island</td>\n",
       "    </tr>\n",
       "    <tr>\n",
       "      <th>684</th>\n",
       "      <td>684</td>\n",
       "      <td>8 December 2020 03:00</td>\n",
       "      <td>NaN</td>\n",
       "      <td>All Island</td>\n",
       "    </tr>\n",
       "  </tbody>\n",
       "</table>\n",
       "<p>66 rows × 4 columns</p>\n",
       "</div>"
      ],
      "text/plain": [
       "      Unnamed: 0            DATE & TIME   ACTUAL GENERATION(MW)      REGION\n",
       "2404        2404    26 March 2017 01:00                     NaN  All Island\n",
       "2405        2405    26 March 2017 01:15                     NaN  All Island\n",
       "2406        2406    26 March 2017 01:30                     NaN  All Island\n",
       "2407        2407    26 March 2017 01:45                     NaN  All Island\n",
       "2116        2116     23 June 2017 01:00                     NaN  All Island\n",
       "...          ...                    ...                     ...         ...\n",
       "2692        2692    29 March 2020 01:00                     NaN  All Island\n",
       "2693        2693    29 March 2020 01:15                     NaN  All Island\n",
       "2694        2694    29 March 2020 01:30                     NaN  All Island\n",
       "2695        2695    29 March 2020 01:45                     NaN  All Island\n",
       "684          684  8 December 2020 03:00                     NaN  All Island\n",
       "\n",
       "[66 rows x 4 columns]"
      ]
     },
     "execution_count": 106,
     "metadata": {},
     "output_type": "execute_result"
    }
   ],
   "source": [
    "generation_df[generation_df[' ACTUAL GENERATION(MW)'].isna()]"
   ]
  },
  {
   "attachments": {},
   "cell_type": "markdown",
   "metadata": {},
   "source": [
    "It would be good to fill the null values but that falls apart if there are a lot in a row. We can use a function to see the longest stretch of NAs"
   ]
  },
  {
   "cell_type": "code",
   "execution_count": 107,
   "metadata": {},
   "outputs": [
    {
     "data": {
      "text/plain": [
       "46"
      ]
     },
     "execution_count": 107,
     "metadata": {},
     "output_type": "execute_result"
    }
   ],
   "source": [
    "def max_na(s):\n",
    "    isna = s.isna()\n",
    "    blocks = (~isna).cumsum()\n",
    "    return isna.groupby(blocks).sum().max()\n",
    "\n",
    "max_na(generation_df[' ACTUAL GENERATION(MW)'])"
   ]
  },
  {
   "cell_type": "code",
   "execution_count": 108,
   "metadata": {},
   "outputs": [
    {
     "data": {
      "text/plain": [
       "140256"
      ]
     },
     "execution_count": 108,
     "metadata": {},
     "output_type": "execute_result"
    }
   ],
   "source": [
    "len(generation_df)"
   ]
  },
  {
   "attachments": {},
   "cell_type": "markdown",
   "metadata": {},
   "source": [
    "46 NA's in a row isn't great but out of 140,256 total rows I think it's okay to fill. "
   ]
  },
  {
   "cell_type": "code",
   "execution_count": 109,
   "metadata": {},
   "outputs": [],
   "source": [
    "generation_df[' ACTUAL GENERATION(MW)'] = generation_df[' ACTUAL GENERATION(MW)'].fillna(method = 'backfill')"
   ]
  },
  {
   "cell_type": "code",
   "execution_count": 110,
   "metadata": {},
   "outputs": [
    {
     "data": {
      "text/plain": [
       "Unnamed: 0                0\n",
       "DATE & TIME               0\n",
       " ACTUAL GENERATION(MW)    0\n",
       " REGION                   0\n",
       "dtype: int64"
      ]
     },
     "execution_count": 110,
     "metadata": {},
     "output_type": "execute_result"
    }
   ],
   "source": [
    "generation_df.isna().sum()"
   ]
  },
  {
   "cell_type": "code",
   "execution_count": 111,
   "metadata": {},
   "outputs": [],
   "source": [
    "generation_df = generation_df.drop('Unnamed: 0', axis = 1, errors = 'ignore')\n",
    "generation_df = generation_df.replace({\"-\":np.nan})\n",
    "generation_df[\"DATE & TIME\"] = pd.to_datetime(generation_df[\"DATE & TIME\"], \n",
    "                                              infer_datetime_format=True, \n",
    "                                              errors=\"ignore\")\n",
    "generation_df = generation_df.rename(columns=lambda x: x.strip())"
   ]
  },
  {
   "cell_type": "code",
   "execution_count": 180,
   "metadata": {},
   "outputs": [
    {
     "name": "stdout",
     "output_type": "stream",
     "text": [
      "<class 'pandas.core.frame.DataFrame'>\n",
      "Int64Index: 140256 entries, 0 to 2975\n",
      "Data columns (total 3 columns):\n",
      " #   Column                 Non-Null Count   Dtype         \n",
      "---  ------                 --------------   -----         \n",
      " 0   DATE & TIME            140256 non-null  datetime64[ns]\n",
      " 1   ACTUAL GENERATION(MW)  140256 non-null  float64       \n",
      " 2   REGION                 140256 non-null  object        \n",
      "dtypes: datetime64[ns](1), float64(1), object(1)\n",
      "memory usage: 8.3+ MB\n"
     ]
    }
   ],
   "source": [
    "generation_df.info()"
   ]
  },
  {
   "cell_type": "code",
   "execution_count": 112,
   "metadata": {},
   "outputs": [
    {
     "name": "stdout",
     "output_type": "stream",
     "text": [
      "transformed/generation.csv uploaded to <Bucket: excess-energy-raw-data>\n"
     ]
    }
   ],
   "source": [
    "write_to_blob_csv(\n",
    "    bucket_name=bucket_name, df=generation_df, filepath=\"transformed/generation.csv\")"
   ]
  },
  {
   "attachments": {},
   "cell_type": "markdown",
   "metadata": {},
   "source": [
    "# Wind"
   ]
  },
  {
   "cell_type": "code",
   "execution_count": 113,
   "metadata": {},
   "outputs": [],
   "source": [
    "# Example URL 'Raw_Data/EirGrid/ALL/demandActual/2017/demandActual_ALL_2017_Apr.csv'\n",
    "base_url = r\"Raw_Data/EirGrid/ALL/windActual\"\n",
    "years = ['2017', '2018', '2019', '2020']\n",
    "months = ['Jan', 'Feb', 'Mar', 'Apr', 'May', 'Jun', 'Jul', 'Aug', 'Sep', 'Oct', 'Nov', 'Dec']"
   ]
  },
  {
   "cell_type": "code",
   "execution_count": 114,
   "metadata": {},
   "outputs": [],
   "source": [
    "dfs = []\n",
    "for year in years:\n",
    "    for month in months:\n",
    "        url = base_url+\"/\"+year+\"/\"+\"windActual\"+\"_ALL\"+\"_\"+year+\"_\"+month+\".csv\"\n",
    "        dfs.append(read_blob_to_pandas(bucket_name, url))"
   ]
  },
  {
   "cell_type": "code",
   "execution_count": 143,
   "metadata": {},
   "outputs": [
    {
     "name": "stdout",
     "output_type": "stream",
     "text": [
      "<class 'pandas.core.frame.DataFrame'>\n",
      "Int64Index: 140272 entries, 0 to 2975\n",
      "Data columns (total 5 columns):\n",
      " #   Column              Non-Null Count   Dtype \n",
      "---  ------              --------------   ----- \n",
      " 0   Unnamed: 0          140272 non-null  int64 \n",
      " 1   DATE & TIME         140272 non-null  object\n",
      " 2    FORECAST WIND(MW)  140272 non-null  object\n",
      " 3     ACTUAL WIND(MW)   140272 non-null  object\n",
      " 4    REGION             140272 non-null  object\n",
      "dtypes: int64(1), object(4)\n",
      "memory usage: 6.4+ MB\n"
     ]
    }
   ],
   "source": [
    "wind_df = pd.concat(dfs)\n",
    "wind_df.info()"
   ]
  },
  {
   "cell_type": "code",
   "execution_count": 144,
   "metadata": {},
   "outputs": [
    {
     "data": {
      "text/plain": [
       "Unnamed: 0            0\n",
       "DATE & TIME           0\n",
       " FORECAST WIND(MW)    0\n",
       "  ACTUAL WIND(MW)     0\n",
       " REGION               0\n",
       "dtype: int64"
      ]
     },
     "execution_count": 144,
     "metadata": {},
     "output_type": "execute_result"
    }
   ],
   "source": [
    "wind_df.isna().sum()"
   ]
  },
  {
   "cell_type": "code",
   "execution_count": 145,
   "metadata": {},
   "outputs": [],
   "source": [
    "wind_df = wind_df.drop('Unnamed: 0', axis = 1, errors = 'ignore')\n",
    "wind_df = wind_df.replace({\"-\":np.nan})\n",
    "wind_df[\"DATE & TIME\"] = pd.to_datetime(wind_df[\"DATE & TIME\"], \n",
    "                                              infer_datetime_format=True, \n",
    "                                              errors=\"ignore\")\n",
    "wind_df = wind_df.rename(columns=lambda x: x.strip())"
   ]
  },
  {
   "cell_type": "code",
   "execution_count": 146,
   "metadata": {},
   "outputs": [
    {
     "data": {
      "text/html": [
       "<div>\n",
       "<style scoped>\n",
       "    .dataframe tbody tr th:only-of-type {\n",
       "        vertical-align: middle;\n",
       "    }\n",
       "\n",
       "    .dataframe tbody tr th {\n",
       "        vertical-align: top;\n",
       "    }\n",
       "\n",
       "    .dataframe thead th {\n",
       "        text-align: right;\n",
       "    }\n",
       "</style>\n",
       "<table border=\"1\" class=\"dataframe\">\n",
       "  <thead>\n",
       "    <tr style=\"text-align: right;\">\n",
       "      <th></th>\n",
       "      <th>DATE &amp; TIME</th>\n",
       "      <th>FORECAST WIND(MW)</th>\n",
       "      <th>ACTUAL WIND(MW)</th>\n",
       "      <th>REGION</th>\n",
       "    </tr>\n",
       "  </thead>\n",
       "  <tbody>\n",
       "    <tr>\n",
       "      <th>0</th>\n",
       "      <td>2017-01-01 00:00:00</td>\n",
       "      <td>1172</td>\n",
       "      <td>1214</td>\n",
       "      <td>All Island</td>\n",
       "    </tr>\n",
       "    <tr>\n",
       "      <th>1</th>\n",
       "      <td>2017-01-01 00:15:00</td>\n",
       "      <td>1198</td>\n",
       "      <td>1168</td>\n",
       "      <td>All Island</td>\n",
       "    </tr>\n",
       "    <tr>\n",
       "      <th>2</th>\n",
       "      <td>2017-01-01 00:30:00</td>\n",
       "      <td>1224</td>\n",
       "      <td>1131</td>\n",
       "      <td>All Island</td>\n",
       "    </tr>\n",
       "    <tr>\n",
       "      <th>3</th>\n",
       "      <td>2017-01-01 00:45:00</td>\n",
       "      <td>1250</td>\n",
       "      <td>1025</td>\n",
       "      <td>All Island</td>\n",
       "    </tr>\n",
       "    <tr>\n",
       "      <th>4</th>\n",
       "      <td>2017-01-01 01:00:00</td>\n",
       "      <td>1280</td>\n",
       "      <td>1123</td>\n",
       "      <td>All Island</td>\n",
       "    </tr>\n",
       "  </tbody>\n",
       "</table>\n",
       "</div>"
      ],
      "text/plain": [
       "          DATE & TIME FORECAST WIND(MW) ACTUAL WIND(MW)      REGION\n",
       "0 2017-01-01 00:00:00              1172            1214  All Island\n",
       "1 2017-01-01 00:15:00              1198            1168  All Island\n",
       "2 2017-01-01 00:30:00              1224            1131  All Island\n",
       "3 2017-01-01 00:45:00              1250            1025  All Island\n",
       "4 2017-01-01 01:00:00              1280            1123  All Island"
      ]
     },
     "execution_count": 146,
     "metadata": {},
     "output_type": "execute_result"
    }
   ],
   "source": [
    "wind_df.head()"
   ]
  },
  {
   "cell_type": "code",
   "execution_count": 127,
   "metadata": {},
   "outputs": [
    {
     "name": "stdout",
     "output_type": "stream",
     "text": [
      "transformed/wind.csv uploaded to <Bucket: excess-energy-raw-data>\n"
     ]
    }
   ],
   "source": [
    "write_to_blob_csv(\n",
    "    bucket_name=bucket_name, df=wind_df, filepath=\"transformed/wind.csv\")"
   ]
  },
  {
   "attachments": {},
   "cell_type": "markdown",
   "metadata": {},
   "source": [
    "# Combining"
   ]
  },
  {
   "cell_type": "code",
   "execution_count": 147,
   "metadata": {},
   "outputs": [
    {
     "name": "stdout",
     "output_type": "stream",
     "text": [
      "Demand length: 140256\n",
      "Generation length: 140256\n",
      "Wind length: 140272\n"
     ]
    }
   ],
   "source": [
    "print(f'Demand length: {len(demand_df)}')\n",
    "print(f'Generation length: {len(generation_df)}')\n",
    "print(f'Wind length: {len(wind_df)}')"
   ]
  },
  {
   "cell_type": "code",
   "execution_count": 160,
   "metadata": {},
   "outputs": [
    {
     "data": {
      "text/plain": [
       "140256"
      ]
     },
     "execution_count": 160,
     "metadata": {},
     "output_type": "execute_result"
    }
   ],
   "source": [
    "wind_dates = set(wind_df['DATE & TIME'])\n",
    "len(wind_dates)"
   ]
  },
  {
   "attachments": {},
   "cell_type": "markdown",
   "metadata": {},
   "source": [
    "Interestingly there must be some repeated dates in the wind dataset. "
   ]
  },
  {
   "cell_type": "code",
   "execution_count": 169,
   "metadata": {},
   "outputs": [
    {
     "data": {
      "text/html": [
       "<div>\n",
       "<style scoped>\n",
       "    .dataframe tbody tr th:only-of-type {\n",
       "        vertical-align: middle;\n",
       "    }\n",
       "\n",
       "    .dataframe tbody tr th {\n",
       "        vertical-align: top;\n",
       "    }\n",
       "\n",
       "    .dataframe thead th {\n",
       "        text-align: right;\n",
       "    }\n",
       "</style>\n",
       "<table border=\"1\" class=\"dataframe\">\n",
       "  <thead>\n",
       "    <tr style=\"text-align: right;\">\n",
       "      <th></th>\n",
       "      <th>DATE &amp; TIME</th>\n",
       "      <th>FORECAST WIND(MW)</th>\n",
       "      <th>ACTUAL WIND(MW)</th>\n",
       "      <th>REGION</th>\n",
       "    </tr>\n",
       "  </thead>\n",
       "  <tbody>\n",
       "    <tr>\n",
       "      <th>2692</th>\n",
       "      <td>2017-10-29 01:00:00</td>\n",
       "      <td>1510</td>\n",
       "      <td>1882</td>\n",
       "      <td>All Island</td>\n",
       "    </tr>\n",
       "    <tr>\n",
       "      <th>2693</th>\n",
       "      <td>2017-10-29 01:00:00</td>\n",
       "      <td>1450</td>\n",
       "      <td>1882</td>\n",
       "      <td>All Island</td>\n",
       "    </tr>\n",
       "    <tr>\n",
       "      <th>2694</th>\n",
       "      <td>2017-10-29 01:15:00</td>\n",
       "      <td>1493</td>\n",
       "      <td>1932</td>\n",
       "      <td>All Island</td>\n",
       "    </tr>\n",
       "    <tr>\n",
       "      <th>2695</th>\n",
       "      <td>2017-10-29 01:15:00</td>\n",
       "      <td>1449</td>\n",
       "      <td>1932</td>\n",
       "      <td>All Island</td>\n",
       "    </tr>\n",
       "    <tr>\n",
       "      <th>2696</th>\n",
       "      <td>2017-10-29 01:30:00</td>\n",
       "      <td>1476</td>\n",
       "      <td>1935</td>\n",
       "      <td>All Island</td>\n",
       "    </tr>\n",
       "    <tr>\n",
       "      <th>2697</th>\n",
       "      <td>2017-10-29 01:30:00</td>\n",
       "      <td>1447</td>\n",
       "      <td>1935</td>\n",
       "      <td>All Island</td>\n",
       "    </tr>\n",
       "  </tbody>\n",
       "</table>\n",
       "</div>"
      ],
      "text/plain": [
       "             DATE & TIME FORECAST WIND(MW) ACTUAL WIND(MW)      REGION\n",
       "2692 2017-10-29 01:00:00              1510            1882  All Island\n",
       "2693 2017-10-29 01:00:00              1450            1882  All Island\n",
       "2694 2017-10-29 01:15:00              1493            1932  All Island\n",
       "2695 2017-10-29 01:15:00              1449            1932  All Island\n",
       "2696 2017-10-29 01:30:00              1476            1935  All Island\n",
       "2697 2017-10-29 01:30:00              1447            1935  All Island"
      ]
     },
     "execution_count": 169,
     "metadata": {},
     "output_type": "execute_result"
    }
   ],
   "source": [
    "wind_df[wind_df.duplicated(subset = 'DATE & TIME', keep = False)].head(6)"
   ]
  },
  {
   "attachments": {},
   "cell_type": "markdown",
   "metadata": {},
   "source": [
    "Going to drop these duplicates which should make all the dataframes the same length."
   ]
  },
  {
   "cell_type": "code",
   "execution_count": 183,
   "metadata": {},
   "outputs": [],
   "source": [
    "wind_df = wind_df.drop_duplicates(subset = 'DATE & TIME', keep = 'first')\n",
    "wind_df = wind_df.reset_index(drop=True)"
   ]
  },
  {
   "cell_type": "code",
   "execution_count": 184,
   "metadata": {},
   "outputs": [
    {
     "name": "stdout",
     "output_type": "stream",
     "text": [
      "Demand length: 140256\n",
      "Generation length: 140256\n",
      "Wind length: 140256\n"
     ]
    }
   ],
   "source": [
    "print(f'Demand length: {len(demand_df)}')\n",
    "print(f'Generation length: {len(generation_df)}')\n",
    "print(f'Wind length: {len(wind_df)}')"
   ]
  },
  {
   "cell_type": "code",
   "execution_count": 193,
   "metadata": {},
   "outputs": [],
   "source": [
    "wind_df = wind_df.reset_index(drop=True)\n",
    "demand_df = demand_df.reset_index(drop=True)\n",
    "generation_df = generation_df.reset_index(drop=True)\n",
    "# Dropping region from two dfs to avoid duplicate cols when merging\n",
    "generation_df = generation_df.drop(['REGION','DATE & TIME'], axis = 1, errors = 'ignore')\n",
    "demand_df = demand_df.drop(['REGION','DATE & TIME'], axis = 1, errors = 'ignore')"
   ]
  },
  {
   "cell_type": "code",
   "execution_count": 196,
   "metadata": {},
   "outputs": [
    {
     "data": {
      "text/html": [
       "<div>\n",
       "<style scoped>\n",
       "    .dataframe tbody tr th:only-of-type {\n",
       "        vertical-align: middle;\n",
       "    }\n",
       "\n",
       "    .dataframe tbody tr th {\n",
       "        vertical-align: top;\n",
       "    }\n",
       "\n",
       "    .dataframe thead th {\n",
       "        text-align: right;\n",
       "    }\n",
       "</style>\n",
       "<table border=\"1\" class=\"dataframe\">\n",
       "  <thead>\n",
       "    <tr style=\"text-align: right;\">\n",
       "      <th></th>\n",
       "      <th>ACTUAL DEMAND(MW)</th>\n",
       "      <th>DATE &amp; TIME</th>\n",
       "      <th>FORECAST WIND(MW)</th>\n",
       "      <th>ACTUAL WIND(MW)</th>\n",
       "      <th>REGION</th>\n",
       "      <th>ACTUAL GENERATION(MW)</th>\n",
       "    </tr>\n",
       "  </thead>\n",
       "  <tbody>\n",
       "    <tr>\n",
       "      <th>0</th>\n",
       "      <td>3696</td>\n",
       "      <td>2017-01-01 00:00:00</td>\n",
       "      <td>1172</td>\n",
       "      <td>1214</td>\n",
       "      <td>All Island</td>\n",
       "      <td>4126.0</td>\n",
       "    </tr>\n",
       "    <tr>\n",
       "      <th>1</th>\n",
       "      <td>3661</td>\n",
       "      <td>2017-01-01 00:15:00</td>\n",
       "      <td>1198</td>\n",
       "      <td>1168</td>\n",
       "      <td>All Island</td>\n",
       "      <td>4184.0</td>\n",
       "    </tr>\n",
       "    <tr>\n",
       "      <th>2</th>\n",
       "      <td>3622</td>\n",
       "      <td>2017-01-01 00:30:00</td>\n",
       "      <td>1224</td>\n",
       "      <td>1131</td>\n",
       "      <td>All Island</td>\n",
       "      <td>4187.0</td>\n",
       "    </tr>\n",
       "    <tr>\n",
       "      <th>3</th>\n",
       "      <td>3492</td>\n",
       "      <td>2017-01-01 00:45:00</td>\n",
       "      <td>1250</td>\n",
       "      <td>1025</td>\n",
       "      <td>All Island</td>\n",
       "      <td>4059.0</td>\n",
       "    </tr>\n",
       "    <tr>\n",
       "      <th>4</th>\n",
       "      <td>3457</td>\n",
       "      <td>2017-01-01 01:00:00</td>\n",
       "      <td>1280</td>\n",
       "      <td>1123</td>\n",
       "      <td>All Island</td>\n",
       "      <td>4094.0</td>\n",
       "    </tr>\n",
       "  </tbody>\n",
       "</table>\n",
       "</div>"
      ],
      "text/plain": [
       "  ACTUAL DEMAND(MW)         DATE & TIME FORECAST WIND(MW) ACTUAL WIND(MW)  \\\n",
       "0              3696 2017-01-01 00:00:00              1172            1214   \n",
       "1              3661 2017-01-01 00:15:00              1198            1168   \n",
       "2              3622 2017-01-01 00:30:00              1224            1131   \n",
       "3              3492 2017-01-01 00:45:00              1250            1025   \n",
       "4              3457 2017-01-01 01:00:00              1280            1123   \n",
       "\n",
       "       REGION  ACTUAL GENERATION(MW)  \n",
       "0  All Island                 4126.0  \n",
       "1  All Island                 4184.0  \n",
       "2  All Island                 4187.0  \n",
       "3  All Island                 4059.0  \n",
       "4  All Island                 4094.0  "
      ]
     },
     "execution_count": 196,
     "metadata": {},
     "output_type": "execute_result"
    }
   ],
   "source": [
    "merged_df = pd.concat([demand_df, wind_df, generation_df], axis = 1)\n",
    "merged_df.head()"
   ]
  },
  {
   "cell_type": "code",
   "execution_count": 198,
   "metadata": {},
   "outputs": [],
   "source": [
    "reorder_cols = ['DATE & TIME','REGION',  \n",
    "                'FORECAST WIND(MW)','ACTUAL WIND(MW)', \n",
    "                'ACTUAL DEMAND(MW)','ACTUAL GENERATION(MW)']\n",
    "merged_df = merged_df[reorder_cols]"
   ]
  },
  {
   "cell_type": "code",
   "execution_count": 200,
   "metadata": {},
   "outputs": [
    {
     "name": "stdout",
     "output_type": "stream",
     "text": [
      "transformed/EIR_grid_merged.csv uploaded to <Bucket: excess-energy-raw-data>\n"
     ]
    }
   ],
   "source": [
    "write_to_blob_csv(\n",
    "    bucket_name=bucket_name, df=merged_df, filepath=\"transformed/EIR_grid_merged.csv\")"
   ]
  },
  {
   "cell_type": "code",
   "execution_count": null,
   "metadata": {},
   "outputs": [],
   "source": []
  }
 ],
 "metadata": {
  "kernelspec": {
   "display_name": "energy",
   "language": "python",
   "name": "python3"
  },
  "language_info": {
   "codemirror_mode": {
    "name": "ipython",
    "version": 3
   },
   "file_extension": ".py",
   "mimetype": "text/x-python",
   "name": "python",
   "nbconvert_exporter": "python",
   "pygments_lexer": "ipython3",
   "version": "3.10.9"
  },
  "orig_nbformat": 4,
  "vscode": {
   "interpreter": {
    "hash": "615d221a9ceee56c45717180d0e45e4f48445eec22bbc2adcd283093611382ad"
   }
  }
 },
 "nbformat": 4,
 "nbformat_minor": 2
}
