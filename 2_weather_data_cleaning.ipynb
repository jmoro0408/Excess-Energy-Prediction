{
 "cells": [
  {
   "attachments": {},
   "cell_type": "markdown",
   "metadata": {},
   "source": [
    "Going to start with cleaning the weather airport data first, because it's simpler than the energy data. "
   ]
  },
  {
   "cell_type": "code",
   "execution_count": 172,
   "metadata": {},
   "outputs": [],
   "source": [
    "from gcp_interaction import read_blob_to_pandas, write_to_blob_csv\n",
    "import json\n",
    "import pandas as pd"
   ]
  },
  {
   "cell_type": "code",
   "execution_count": 158,
   "metadata": {},
   "outputs": [],
   "source": [
    "with open(\"excess-energy-prediction-393ec78547e4.json\", \"r\") as f:\n",
    "    gcp_login_info = json.load(f)\n",
    "with open(\"gcp_info.json\", \"r\") as f:\n",
    "    bucket_name = json.load(f)[\"bucket_name\"]"
   ]
  },
  {
   "cell_type": "code",
   "execution_count": 159,
   "metadata": {},
   "outputs": [],
   "source": [
    "def clean_weather_df(df: pd.DataFrame) -> pd.DataFrame:\n",
    "    MIN_DATE = \"2017-01-01 00:00:00\"\n",
    "    df[\"date\"] = pd.to_datetime(df[\"date\"], infer_datetime_format=True, errors=\"ignore\")\n",
    "    # fix space value\n",
    "    df[\"wdsp\"] = df[\"wdsp\"].replace(to_replace=\" \", value=0)\n",
    "    df[\"wdsp\"] = df[\"wdsp\"].astype(\"int32\")\n",
    "    # Reduce timeframe\n",
    "    df = df[(df[\"date\"] >= MIN_DATE)]\n",
    "    return df"
   ]
  },
  {
   "attachments": {},
   "cell_type": "markdown",
   "metadata": {},
   "source": [
    "# Belmullet"
   ]
  },
  {
   "cell_type": "code",
   "execution_count": 160,
   "metadata": {},
   "outputs": [],
   "source": [
    "belmullet_dir = r\"Raw_Data/met/BELMULLET/belmullet.csv\"\n",
    "belmullet_df = read_blob_to_pandas(\n",
    "    bucket_name, belmullet_dir, header=20, low_memory=False\n",
    ")\n",
    "belmullet_df = clean_weather_df(belmullet_df)"
   ]
  },
  {
   "cell_type": "code",
   "execution_count": 161,
   "metadata": {},
   "outputs": [
    {
     "name": "stdout",
     "output_type": "stream",
     "text": [
      "<class 'pandas.core.frame.DataFrame'>\n",
      "Int64Index: 53329 entries, 528513 to 581841\n",
      "Data columns (total 21 columns):\n",
      " #   Column  Non-Null Count  Dtype         \n",
      "---  ------  --------------  -----         \n",
      " 0   date    53329 non-null  datetime64[ns]\n",
      " 1   ind     53329 non-null  int64         \n",
      " 2   rain    53329 non-null  float64       \n",
      " 3   ind.1   53329 non-null  int64         \n",
      " 4   temp    53329 non-null  float64       \n",
      " 5   ind.2   53329 non-null  int64         \n",
      " 6   wetb    53329 non-null  float64       \n",
      " 7   dewpt   53329 non-null  float64       \n",
      " 8   vappr   53329 non-null  float64       \n",
      " 9   rhum    53329 non-null  int64         \n",
      " 10  msl     53329 non-null  float64       \n",
      " 11  ind.3   53329 non-null  int64         \n",
      " 12  wdsp    53329 non-null  int32         \n",
      " 13  ind.4   53329 non-null  int64         \n",
      " 14  wddir   53329 non-null  object        \n",
      " 15  ww      53329 non-null  object        \n",
      " 16  w       53329 non-null  object        \n",
      " 17  sun     53329 non-null  object        \n",
      " 18  vis     53329 non-null  object        \n",
      " 19  clht    53329 non-null  object        \n",
      " 20  clamt   53329 non-null  object        \n",
      "dtypes: datetime64[ns](1), float64(6), int32(1), int64(6), object(7)\n",
      "memory usage: 8.7+ MB\n"
     ]
    }
   ],
   "source": [
    "belmullet_df.info()"
   ]
  },
  {
   "cell_type": "code",
   "execution_count": 162,
   "metadata": {},
   "outputs": [
    {
     "name": "stdout",
     "output_type": "stream",
     "text": [
      "<class 'pandas.core.frame.DataFrame'>\n",
      "Int64Index: 53329 entries, 528513 to 581841\n",
      "Data columns (total 21 columns):\n",
      " #   Column  Non-Null Count  Dtype         \n",
      "---  ------  --------------  -----         \n",
      " 0   date    53329 non-null  datetime64[ns]\n",
      " 1   ind     53329 non-null  int64         \n",
      " 2   rain    53329 non-null  float64       \n",
      " 3   ind.1   53329 non-null  int64         \n",
      " 4   temp    53329 non-null  float64       \n",
      " 5   ind.2   53329 non-null  int64         \n",
      " 6   wetb    53329 non-null  float64       \n",
      " 7   dewpt   53329 non-null  float64       \n",
      " 8   vappr   53329 non-null  float64       \n",
      " 9   rhum    53329 non-null  int64         \n",
      " 10  msl     53329 non-null  float64       \n",
      " 11  ind.3   53329 non-null  int64         \n",
      " 12  wdsp    53329 non-null  int32         \n",
      " 13  ind.4   53329 non-null  int64         \n",
      " 14  wddir   53329 non-null  object        \n",
      " 15  ww      53329 non-null  object        \n",
      " 16  w       53329 non-null  object        \n",
      " 17  sun     53329 non-null  object        \n",
      " 18  vis     53329 non-null  object        \n",
      " 19  clht    53329 non-null  object        \n",
      " 20  clamt   53329 non-null  object        \n",
      "dtypes: datetime64[ns](1), float64(6), int32(1), int64(6), object(7)\n",
      "memory usage: 8.7+ MB\n"
     ]
    }
   ],
   "source": [
    "belmullet_df.info()"
   ]
  },
  {
   "attachments": {},
   "cell_type": "markdown",
   "metadata": {},
   "source": [
    "# Dublin"
   ]
  },
  {
   "cell_type": "code",
   "execution_count": 163,
   "metadata": {},
   "outputs": [],
   "source": [
    "dublin_dir = r\"Raw_Data/met/DUBLIN AIRPORT/dublin.csv\"\n",
    "dublin_df = read_blob_to_pandas(bucket_name, dublin_dir, header=20, low_memory=False)\n",
    "dublin_df = clean_weather_df(dublin_df)"
   ]
  },
  {
   "cell_type": "code",
   "execution_count": 164,
   "metadata": {},
   "outputs": [
    {
     "name": "stdout",
     "output_type": "stream",
     "text": [
      "<class 'pandas.core.frame.DataFrame'>\n",
      "Int64Index: 53240 entries, 648696 to 701935\n",
      "Data columns (total 21 columns):\n",
      " #   Column  Non-Null Count  Dtype         \n",
      "---  ------  --------------  -----         \n",
      " 0   date    53240 non-null  datetime64[ns]\n",
      " 1   ind     53240 non-null  int64         \n",
      " 2   rain    53240 non-null  float64       \n",
      " 3   ind.1   53240 non-null  int64         \n",
      " 4   temp    53240 non-null  float64       \n",
      " 5   ind.2   53240 non-null  int64         \n",
      " 6   wetb    53240 non-null  float64       \n",
      " 7   dewpt   53240 non-null  float64       \n",
      " 8   vappr   53240 non-null  object        \n",
      " 9   rhum    53240 non-null  object        \n",
      " 10  msl     53240 non-null  float64       \n",
      " 11  ind.3   53240 non-null  int64         \n",
      " 12  wdsp    53240 non-null  int32         \n",
      " 13  ind.4   53240 non-null  int64         \n",
      " 14  wddir   53240 non-null  object        \n",
      " 15  ww      53240 non-null  int64         \n",
      " 16  w       53240 non-null  int64         \n",
      " 17  sun     53240 non-null  float64       \n",
      " 18  vis     53240 non-null  object        \n",
      " 19  clht    53240 non-null  object        \n",
      " 20  clamt   53240 non-null  object        \n",
      "dtypes: datetime64[ns](1), float64(6), int32(1), int64(7), object(6)\n",
      "memory usage: 8.7+ MB\n"
     ]
    }
   ],
   "source": [
    "dublin_df.info()"
   ]
  },
  {
   "attachments": {},
   "cell_type": "markdown",
   "metadata": {},
   "source": [
    "# Shannon"
   ]
  },
  {
   "cell_type": "code",
   "execution_count": 165,
   "metadata": {},
   "outputs": [],
   "source": [
    "shannon_dir = r\"Raw_Data/met/SHANNON AIRPORT/shannon.csv\"\n",
    "shannon_df = read_blob_to_pandas(bucket_name, shannon_dir, header=20, low_memory=False)\n",
    "shannon_df = clean_weather_df(shannon_df)"
   ]
  },
  {
   "cell_type": "code",
   "execution_count": 166,
   "metadata": {},
   "outputs": [
    {
     "name": "stdout",
     "output_type": "stream",
     "text": [
      "<class 'pandas.core.frame.DataFrame'>\n",
      "Int64Index: 53240 entries, 625319 to 678558\n",
      "Data columns (total 21 columns):\n",
      " #   Column  Non-Null Count  Dtype         \n",
      "---  ------  --------------  -----         \n",
      " 0   date    53240 non-null  datetime64[ns]\n",
      " 1   ind     53240 non-null  int64         \n",
      " 2   rain    53240 non-null  float64       \n",
      " 3   ind.1   53240 non-null  int64         \n",
      " 4   temp    53240 non-null  float64       \n",
      " 5   ind.2   53240 non-null  int64         \n",
      " 6   wetb    53240 non-null  object        \n",
      " 7   dewpt   53240 non-null  float64       \n",
      " 8   vappr   53240 non-null  float64       \n",
      " 9   rhum    53240 non-null  int64         \n",
      " 10  msl     53240 non-null  float64       \n",
      " 11  ind.3   53240 non-null  int64         \n",
      " 12  wdsp    53240 non-null  int32         \n",
      " 13  ind.4   53240 non-null  int64         \n",
      " 14  wddir   53240 non-null  object        \n",
      " 15  ww      53240 non-null  object        \n",
      " 16  w       53240 non-null  object        \n",
      " 17  sun     53240 non-null  float64       \n",
      " 18  vis     53240 non-null  object        \n",
      " 19  clht    53240 non-null  object        \n",
      " 20  clamt   53240 non-null  object        \n",
      "dtypes: datetime64[ns](1), float64(6), int32(1), int64(6), object(7)\n",
      "memory usage: 8.7+ MB\n"
     ]
    }
   ],
   "source": [
    "shannon_df.info()"
   ]
  },
  {
   "attachments": {},
   "cell_type": "markdown",
   "metadata": {},
   "source": [
    "# Cork"
   ]
  },
  {
   "cell_type": "code",
   "execution_count": 167,
   "metadata": {},
   "outputs": [],
   "source": [
    "cork_dir = r\"Raw_Data/met/CORK AIRPORT/cork.csv\"\n",
    "cork_df = read_blob_to_pandas(bucket_name, cork_dir, header=20, low_memory=False)\n",
    "cork_df = clean_weather_df(cork_df)"
   ]
  },
  {
   "cell_type": "code",
   "execution_count": 168,
   "metadata": {},
   "outputs": [
    {
     "name": "stdout",
     "output_type": "stream",
     "text": [
      "<class 'pandas.core.frame.DataFrame'>\n",
      "Int64Index: 53240 entries, 482135 to 535374\n",
      "Data columns (total 21 columns):\n",
      " #   Column  Non-Null Count  Dtype         \n",
      "---  ------  --------------  -----         \n",
      " 0   date    53240 non-null  datetime64[ns]\n",
      " 1   ind     53240 non-null  int64         \n",
      " 2   rain    53240 non-null  object        \n",
      " 3   ind.1   53240 non-null  int64         \n",
      " 4   temp    53240 non-null  float64       \n",
      " 5   ind.2   53240 non-null  int64         \n",
      " 6   wetb    53240 non-null  object        \n",
      " 7   dewpt   53240 non-null  float64       \n",
      " 8   vappr   53240 non-null  object        \n",
      " 9   rhum    53240 non-null  object        \n",
      " 10  msl     53240 non-null  float64       \n",
      " 11  ind.3   53240 non-null  int64         \n",
      " 12  wdsp    53240 non-null  int32         \n",
      " 13  ind.4   53240 non-null  int64         \n",
      " 14  wddir   53240 non-null  int64         \n",
      " 15  ww      53240 non-null  int64         \n",
      " 16  w       53240 non-null  int64         \n",
      " 17  sun     53240 non-null  object        \n",
      " 18  vis     53240 non-null  object        \n",
      " 19  clht    53240 non-null  object        \n",
      " 20  clamt   53240 non-null  object        \n",
      "dtypes: datetime64[ns](1), float64(3), int32(1), int64(8), object(8)\n",
      "memory usage: 8.7+ MB\n"
     ]
    }
   ],
   "source": [
    "cork_df.info()"
   ]
  },
  {
   "attachments": {},
   "cell_type": "markdown",
   "metadata": {},
   "source": [
    "# Combining"
   ]
  },
  {
   "cell_type": "code",
   "execution_count": 169,
   "metadata": {},
   "outputs": [],
   "source": [
    "merged_df = pd.merge(belmullet_df, dublin_df, on=\"date\", suffixes=(\"_BEL\", \"_DUB\"))\n",
    "\n",
    "merged_df = pd.merge(\n",
    "    merged_df,\n",
    "    shannon_df,\n",
    "    on=\"date\",\n",
    ")\n",
    "renamed_cols = [x + \"_SHAN\" if x != \"date\" else x for x in shannon_df.columns]\n",
    "merged_df = merged_df.rename(columns=dict(zip(shannon_df.columns, renamed_cols)))\n",
    "\n",
    "merged_df = pd.merge(\n",
    "    merged_df,\n",
    "    cork_df,\n",
    "    on=\"date\",\n",
    ")\n",
    "renamed_cols = [x + \"_CORK\" if x != \"date\" else x for x in cork_df.columns]\n",
    "merged_df = merged_df.rename(columns=dict(zip(cork_df.columns, renamed_cols)))"
   ]
  },
  {
   "cell_type": "code",
   "execution_count": 170,
   "metadata": {},
   "outputs": [
    {
     "name": "stdout",
     "output_type": "stream",
     "text": [
      "<class 'pandas.core.frame.DataFrame'>\n",
      "Int64Index: 53240 entries, 0 to 53239\n",
      "Data columns (total 81 columns):\n",
      " #   Column      Non-Null Count  Dtype         \n",
      "---  ------      --------------  -----         \n",
      " 0   date        53240 non-null  datetime64[ns]\n",
      " 1   ind_BEL     53240 non-null  int64         \n",
      " 2   rain_BEL    53240 non-null  float64       \n",
      " 3   ind.1_BEL   53240 non-null  int64         \n",
      " 4   temp_BEL    53240 non-null  float64       \n",
      " 5   ind.2_BEL   53240 non-null  int64         \n",
      " 6   wetb_BEL    53240 non-null  float64       \n",
      " 7   dewpt_BEL   53240 non-null  float64       \n",
      " 8   vappr_BEL   53240 non-null  float64       \n",
      " 9   rhum_BEL    53240 non-null  int64         \n",
      " 10  msl_BEL     53240 non-null  float64       \n",
      " 11  ind.3_BEL   53240 non-null  int64         \n",
      " 12  wdsp_BEL    53240 non-null  int32         \n",
      " 13  ind.4_BEL   53240 non-null  int64         \n",
      " 14  wddir_BEL   53240 non-null  object        \n",
      " 15  ww_BEL      53240 non-null  object        \n",
      " 16  w_BEL       53240 non-null  object        \n",
      " 17  sun_BEL     53240 non-null  object        \n",
      " 18  vis_BEL     53240 non-null  object        \n",
      " 19  clht_BEL    53240 non-null  object        \n",
      " 20  clamt_BEL   53240 non-null  object        \n",
      " 21  ind_DUB     53240 non-null  int64         \n",
      " 22  rain_DUB    53240 non-null  float64       \n",
      " 23  ind.1_DUB   53240 non-null  int64         \n",
      " 24  temp_DUB    53240 non-null  float64       \n",
      " 25  ind.2_DUB   53240 non-null  int64         \n",
      " 26  wetb_DUB    53240 non-null  float64       \n",
      " 27  dewpt_DUB   53240 non-null  float64       \n",
      " 28  vappr_DUB   53240 non-null  object        \n",
      " 29  rhum_DUB    53240 non-null  object        \n",
      " 30  msl_DUB     53240 non-null  float64       \n",
      " 31  ind.3_DUB   53240 non-null  int64         \n",
      " 32  wdsp_DUB    53240 non-null  int32         \n",
      " 33  ind.4_DUB   53240 non-null  int64         \n",
      " 34  wddir_DUB   53240 non-null  object        \n",
      " 35  ww_DUB      53240 non-null  int64         \n",
      " 36  w_DUB       53240 non-null  int64         \n",
      " 37  sun_DUB     53240 non-null  float64       \n",
      " 38  vis_DUB     53240 non-null  object        \n",
      " 39  clht_DUB    53240 non-null  object        \n",
      " 40  clamt_DUB   53240 non-null  object        \n",
      " 41  ind_SHAN    53240 non-null  int64         \n",
      " 42  rain_SHAN   53240 non-null  float64       \n",
      " 43  ind.1_SHAN  53240 non-null  int64         \n",
      " 44  temp_SHAN   53240 non-null  float64       \n",
      " 45  ind.2_SHAN  53240 non-null  int64         \n",
      " 46  wetb_SHAN   53240 non-null  object        \n",
      " 47  dewpt_SHAN  53240 non-null  float64       \n",
      " 48  vappr_SHAN  53240 non-null  float64       \n",
      " 49  rhum_SHAN   53240 non-null  int64         \n",
      " 50  msl_SHAN    53240 non-null  float64       \n",
      " 51  ind.3_SHAN  53240 non-null  int64         \n",
      " 52  wdsp_SHAN   53240 non-null  int32         \n",
      " 53  ind.4_SHAN  53240 non-null  int64         \n",
      " 54  wddir_SHAN  53240 non-null  object        \n",
      " 55  ww_SHAN     53240 non-null  object        \n",
      " 56  w_SHAN      53240 non-null  object        \n",
      " 57  sun_SHAN    53240 non-null  float64       \n",
      " 58  vis_SHAN    53240 non-null  object        \n",
      " 59  clht_SHAN   53240 non-null  object        \n",
      " 60  clamt_SHAN  53240 non-null  object        \n",
      " 61  ind_CORK    53240 non-null  int64         \n",
      " 62  rain_CORK   53240 non-null  object        \n",
      " 63  ind.1_CORK  53240 non-null  int64         \n",
      " 64  temp_CORK   53240 non-null  float64       \n",
      " 65  ind.2_CORK  53240 non-null  int64         \n",
      " 66  wetb_CORK   53240 non-null  object        \n",
      " 67  dewpt_CORK  53240 non-null  float64       \n",
      " 68  vappr_CORK  53240 non-null  object        \n",
      " 69  rhum_CORK   53240 non-null  object        \n",
      " 70  msl_CORK    53240 non-null  float64       \n",
      " 71  ind.3_CORK  53240 non-null  int64         \n",
      " 72  wdsp_CORK   53240 non-null  int32         \n",
      " 73  ind.4_CORK  53240 non-null  int64         \n",
      " 74  wddir_CORK  53240 non-null  int64         \n",
      " 75  ww_CORK     53240 non-null  int64         \n",
      " 76  w_CORK      53240 non-null  int64         \n",
      " 77  sun_CORK    53240 non-null  object        \n",
      " 78  vis_CORK    53240 non-null  object        \n",
      " 79  clht_CORK   53240 non-null  object        \n",
      " 80  clamt_CORK  53240 non-null  object        \n",
      "dtypes: datetime64[ns](1), float64(21), int32(4), int64(27), object(28)\n",
      "memory usage: 32.5+ MB\n"
     ]
    }
   ],
   "source": [
    "merged_df.info()"
   ]
  },
  {
   "cell_type": "code",
   "execution_count": 171,
   "metadata": {},
   "outputs": [
    {
     "data": {
      "text/html": [
       "<div>\n",
       "<style scoped>\n",
       "    .dataframe tbody tr th:only-of-type {\n",
       "        vertical-align: middle;\n",
       "    }\n",
       "\n",
       "    .dataframe tbody tr th {\n",
       "        vertical-align: top;\n",
       "    }\n",
       "\n",
       "    .dataframe thead th {\n",
       "        text-align: right;\n",
       "    }\n",
       "</style>\n",
       "<table border=\"1\" class=\"dataframe\">\n",
       "  <thead>\n",
       "    <tr style=\"text-align: right;\">\n",
       "      <th></th>\n",
       "      <th>date</th>\n",
       "      <th>ind_BEL</th>\n",
       "      <th>rain_BEL</th>\n",
       "      <th>ind.1_BEL</th>\n",
       "      <th>temp_BEL</th>\n",
       "      <th>ind.2_BEL</th>\n",
       "      <th>wetb_BEL</th>\n",
       "      <th>dewpt_BEL</th>\n",
       "      <th>vappr_BEL</th>\n",
       "      <th>rhum_BEL</th>\n",
       "      <th>...</th>\n",
       "      <th>ind.3_CORK</th>\n",
       "      <th>wdsp_CORK</th>\n",
       "      <th>ind.4_CORK</th>\n",
       "      <th>wddir_CORK</th>\n",
       "      <th>ww_CORK</th>\n",
       "      <th>w_CORK</th>\n",
       "      <th>sun_CORK</th>\n",
       "      <th>vis_CORK</th>\n",
       "      <th>clht_CORK</th>\n",
       "      <th>clamt_CORK</th>\n",
       "    </tr>\n",
       "  </thead>\n",
       "  <tbody>\n",
       "    <tr>\n",
       "      <th>0</th>\n",
       "      <td>2017-01-01 00:00:00</td>\n",
       "      <td>0</td>\n",
       "      <td>0.0</td>\n",
       "      <td>0</td>\n",
       "      <td>5.2</td>\n",
       "      <td>0</td>\n",
       "      <td>3.9</td>\n",
       "      <td>2.0</td>\n",
       "      <td>7.1</td>\n",
       "      <td>79</td>\n",
       "      <td>...</td>\n",
       "      <td>2</td>\n",
       "      <td>11</td>\n",
       "      <td>2</td>\n",
       "      <td>230</td>\n",
       "      <td>61</td>\n",
       "      <td>62</td>\n",
       "      <td>0.0</td>\n",
       "      <td>9000</td>\n",
       "      <td>22</td>\n",
       "      <td>8</td>\n",
       "    </tr>\n",
       "    <tr>\n",
       "      <th>1</th>\n",
       "      <td>2017-01-01 01:00:00</td>\n",
       "      <td>0</td>\n",
       "      <td>0.5</td>\n",
       "      <td>0</td>\n",
       "      <td>4.7</td>\n",
       "      <td>0</td>\n",
       "      <td>3.4</td>\n",
       "      <td>1.4</td>\n",
       "      <td>6.8</td>\n",
       "      <td>78</td>\n",
       "      <td>...</td>\n",
       "      <td>2</td>\n",
       "      <td>16</td>\n",
       "      <td>2</td>\n",
       "      <td>320</td>\n",
       "      <td>61</td>\n",
       "      <td>66</td>\n",
       "      <td>0.0</td>\n",
       "      <td>20000</td>\n",
       "      <td>8</td>\n",
       "      <td>8</td>\n",
       "    </tr>\n",
       "    <tr>\n",
       "      <th>2</th>\n",
       "      <td>2017-01-01 02:00:00</td>\n",
       "      <td>0</td>\n",
       "      <td>0.0</td>\n",
       "      <td>0</td>\n",
       "      <td>5.7</td>\n",
       "      <td>0</td>\n",
       "      <td>3.8</td>\n",
       "      <td>0.7</td>\n",
       "      <td>6.4</td>\n",
       "      <td>70</td>\n",
       "      <td>...</td>\n",
       "      <td>2</td>\n",
       "      <td>16</td>\n",
       "      <td>2</td>\n",
       "      <td>350</td>\n",
       "      <td>21</td>\n",
       "      <td>62</td>\n",
       "      <td>0.0</td>\n",
       "      <td>25000</td>\n",
       "      <td>80</td>\n",
       "      <td>7</td>\n",
       "    </tr>\n",
       "    <tr>\n",
       "      <th>3</th>\n",
       "      <td>2017-01-01 03:00:00</td>\n",
       "      <td>0</td>\n",
       "      <td>0.4</td>\n",
       "      <td>0</td>\n",
       "      <td>5.6</td>\n",
       "      <td>0</td>\n",
       "      <td>3.3</td>\n",
       "      <td>-0.6</td>\n",
       "      <td>5.9</td>\n",
       "      <td>64</td>\n",
       "      <td>...</td>\n",
       "      <td>2</td>\n",
       "      <td>14</td>\n",
       "      <td>2</td>\n",
       "      <td>340</td>\n",
       "      <td>2</td>\n",
       "      <td>62</td>\n",
       "      <td>0.0</td>\n",
       "      <td>25000</td>\n",
       "      <td>10</td>\n",
       "      <td>7</td>\n",
       "    </tr>\n",
       "    <tr>\n",
       "      <th>4</th>\n",
       "      <td>2017-01-01 04:00:00</td>\n",
       "      <td>0</td>\n",
       "      <td>0.6</td>\n",
       "      <td>0</td>\n",
       "      <td>4.7</td>\n",
       "      <td>0</td>\n",
       "      <td>3.1</td>\n",
       "      <td>0.5</td>\n",
       "      <td>6.3</td>\n",
       "      <td>74</td>\n",
       "      <td>...</td>\n",
       "      <td>2</td>\n",
       "      <td>14</td>\n",
       "      <td>2</td>\n",
       "      <td>350</td>\n",
       "      <td>21</td>\n",
       "      <td>62</td>\n",
       "      <td>0.0</td>\n",
       "      <td>30000</td>\n",
       "      <td>50</td>\n",
       "      <td>7</td>\n",
       "    </tr>\n",
       "  </tbody>\n",
       "</table>\n",
       "<p>5 rows × 81 columns</p>\n",
       "</div>"
      ],
      "text/plain": [
       "                 date  ind_BEL  rain_BEL  ind.1_BEL  temp_BEL  ind.2_BEL  \\\n",
       "0 2017-01-01 00:00:00        0       0.0          0       5.2          0   \n",
       "1 2017-01-01 01:00:00        0       0.5          0       4.7          0   \n",
       "2 2017-01-01 02:00:00        0       0.0          0       5.7          0   \n",
       "3 2017-01-01 03:00:00        0       0.4          0       5.6          0   \n",
       "4 2017-01-01 04:00:00        0       0.6          0       4.7          0   \n",
       "\n",
       "   wetb_BEL  dewpt_BEL  vappr_BEL  rhum_BEL  ...  ind.3_CORK  wdsp_CORK  \\\n",
       "0       3.9        2.0        7.1        79  ...           2         11   \n",
       "1       3.4        1.4        6.8        78  ...           2         16   \n",
       "2       3.8        0.7        6.4        70  ...           2         16   \n",
       "3       3.3       -0.6        5.9        64  ...           2         14   \n",
       "4       3.1        0.5        6.3        74  ...           2         14   \n",
       "\n",
       "   ind.4_CORK  wddir_CORK ww_CORK w_CORK sun_CORK vis_CORK clht_CORK  \\\n",
       "0           2         230      61     62      0.0     9000        22   \n",
       "1           2         320      61     66      0.0    20000         8   \n",
       "2           2         350      21     62      0.0    25000        80   \n",
       "3           2         340       2     62      0.0    25000        10   \n",
       "4           2         350      21     62      0.0    30000        50   \n",
       "\n",
       "  clamt_CORK  \n",
       "0          8  \n",
       "1          8  \n",
       "2          7  \n",
       "3          7  \n",
       "4          7  \n",
       "\n",
       "[5 rows x 81 columns]"
      ]
     },
     "execution_count": 171,
     "metadata": {},
     "output_type": "execute_result"
    }
   ],
   "source": [
    "merged_df.head()"
   ]
  },
  {
   "attachments": {},
   "cell_type": "markdown",
   "metadata": {},
   "source": [
    "# Writing back to GCP\n",
    "\n",
    "reading in all these CSVs is slow going, so I'm writing back to GCP so I can import a single df and clean in another file. "
   ]
  },
  {
   "cell_type": "code",
   "execution_count": 173,
   "metadata": {},
   "outputs": [
    {
     "name": "stdout",
     "output_type": "stream",
     "text": [
      "transformed/weather_combined.csv uploaded to <Bucket: excess-energy-raw-data>\n"
     ]
    }
   ],
   "source": [
    "write_to_blob_csv(\n",
    "    bucket_name=bucket_name, df=merged_df, filepath=\"transformed/weather_combined.csv\"\n",
    ")"
   ]
  },
  {
   "cell_type": "code",
   "execution_count": null,
   "metadata": {},
   "outputs": [],
   "source": []
  }
 ],
 "metadata": {
  "kernelspec": {
   "display_name": "energy",
   "language": "python",
   "name": "python3"
  },
  "language_info": {
   "codemirror_mode": {
    "name": "ipython",
    "version": 3
   },
   "file_extension": ".py",
   "mimetype": "text/x-python",
   "name": "python",
   "nbconvert_exporter": "python",
   "pygments_lexer": "ipython3",
   "version": "3.10.9"
  },
  "orig_nbformat": 4,
  "vscode": {
   "interpreter": {
    "hash": "615d221a9ceee56c45717180d0e45e4f48445eec22bbc2adcd283093611382ad"
   }
  }
 },
 "nbformat": 4,
 "nbformat_minor": 2
}
