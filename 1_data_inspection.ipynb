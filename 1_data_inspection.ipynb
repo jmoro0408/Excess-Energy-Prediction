{
 "cells": [
  {
   "cell_type": "code",
   "execution_count": 60,
   "metadata": {},
   "outputs": [],
   "source": [
    "from pathlib import Path\n",
    "from gcp_interaction import read_blob_to_pandas, list_buckets, list_blobs\n",
    "import json \n",
    "import numpy as np"
   ]
  },
  {
   "cell_type": "code",
   "execution_count": 30,
   "metadata": {},
   "outputs": [],
   "source": [
    "with open(\"excess-energy-prediction-393ec78547e4.json\", \"r\") as f:\n",
    "    gcp_login_info = json.load(f)\n",
    "with open(\"gcp_info.json\", \"r\") as f:\n",
    "    bucket_name = json.load(f)['bucket_name']"
   ]
  },
  {
   "cell_type": "code",
   "execution_count": 3,
   "metadata": {},
   "outputs": [
    {
     "name": "stdout",
     "output_type": "stream",
     "text": [
      "Buckets:\n"
     ]
    },
    {
     "data": {
      "text/plain": [
       "['excess-energy-raw-data']"
      ]
     },
     "execution_count": 3,
     "metadata": {},
     "output_type": "execute_result"
    }
   ],
   "source": [
    "buckets = list_buckets(gcp_login_info['project_id'])\n",
    "buckets"
   ]
  },
  {
   "cell_type": "code",
   "execution_count": 7,
   "metadata": {},
   "outputs": [
    {
     "name": "stdout",
     "output_type": "stream",
     "text": [
      "Blobs:\n"
     ]
    },
    {
     "data": {
      "text/plain": [
       "'Raw_Data/EirGrid/ALL/demandActual/2017/demandActual_ALL_2017_Apr.csv'"
      ]
     },
     "execution_count": 7,
     "metadata": {},
     "output_type": "execute_result"
    }
   ],
   "source": [
    "blobs = list_blobs(project_id = gcp_login_info['project_id'], bucket_name = buckets[0])\n",
    "blobs[0]"
   ]
  },
  {
   "cell_type": "code",
   "execution_count": 24,
   "metadata": {},
   "outputs": [],
   "source": [
    "folders = []\n",
    "for blob in blobs:\n",
    "    blob = Path(blob)\n",
    "    for idx, i in enumerate(blob.parts):\n",
    "        if Path(i).suffix != '.csv':\n",
    "            folders.append(str(\"-\"*idx + i)) #\"-\" gives an idea of folder level "
   ]
  },
  {
   "cell_type": "code",
   "execution_count": 27,
   "metadata": {},
   "outputs": [
    {
     "data": {
      "text/plain": [
       "['Raw_Data',\n",
       " '-EirGrid',\n",
       " '--ALL',\n",
       " '---demandActual',\n",
       " '----2017',\n",
       " '----2018',\n",
       " '----2019',\n",
       " '----2020',\n",
       " '---generationActual',\n",
       " '---windActual',\n",
       " '--NI',\n",
       " '--ROI',\n",
       " '-met',\n",
       " '--BELMULLET',\n",
       " '---Data_Licence.pdf',\n",
       " '---Data_Licence.txt',\n",
       " '---KeyHourly.txt',\n",
       " '--CORK AIRPORT',\n",
       " '--DUBLIN AIRPORT',\n",
       " '--SHANNON AIRPORT']"
      ]
     },
     "execution_count": 27,
     "metadata": {},
     "output_type": "execute_result"
    }
   ],
   "source": [
    "list(dict.fromkeys(folders)) #removing duplicates whilst maintatining order"
   ]
  },
  {
   "attachments": {},
   "cell_type": "markdown",
   "metadata": {},
   "source": [
    "This gives us a rough idea of the folder structure. I know that everything under -EirGrid -- ALL is repeated for --NI and --ROI. And everything under the Belmullet folder is repeated in Cork Dublin, and Shannon. "
   ]
  },
  {
   "attachments": {},
   "cell_type": "markdown",
   "metadata": {},
   "source": [
    "# EIRGrid"
   ]
  },
  {
   "attachments": {},
   "cell_type": "markdown",
   "metadata": {},
   "source": [
    "## Demand"
   ]
  },
  {
   "cell_type": "code",
   "execution_count": 32,
   "metadata": {},
   "outputs": [],
   "source": [
    "eir_grid_df = read_blob_to_pandas(bucket_name, blobs[0])"
   ]
  },
  {
   "cell_type": "code",
   "execution_count": 34,
   "metadata": {},
   "outputs": [
    {
     "name": "stdout",
     "output_type": "stream",
     "text": [
      "<class 'pandas.core.frame.DataFrame'>\n",
      "RangeIndex: 2880 entries, 0 to 2879\n",
      "Data columns (total 5 columns):\n",
      " #   Column                Non-Null Count  Dtype \n",
      "---  ------                --------------  ----- \n",
      " 0   Unnamed: 0            2880 non-null   int64 \n",
      " 1   DATE & TIME           2880 non-null   object\n",
      " 2    ACTUAL DEMAND(MW)    2880 non-null   int64 \n",
      " 3    FORECAST DEMAND(MW)  2880 non-null   object\n",
      " 4    REGION               2880 non-null   object\n",
      "dtypes: int64(2), object(3)\n",
      "memory usage: 112.6+ KB\n"
     ]
    }
   ],
   "source": [
    "eir_grid_df.info()"
   ]
  },
  {
   "attachments": {},
   "cell_type": "markdown",
   "metadata": {},
   "source": [
    "Although it looks like there is no missing data, the 'FORECAST DEMAND(MW)' column is actually empty. Will need to replace these with NA's during cleaning, and transform the 'DATE & TIME' to proper datetime objects. "
   ]
  },
  {
   "cell_type": "code",
   "execution_count": 35,
   "metadata": {},
   "outputs": [
    {
     "data": {
      "text/html": [
       "<div>\n",
       "<style scoped>\n",
       "    .dataframe tbody tr th:only-of-type {\n",
       "        vertical-align: middle;\n",
       "    }\n",
       "\n",
       "    .dataframe tbody tr th {\n",
       "        vertical-align: top;\n",
       "    }\n",
       "\n",
       "    .dataframe thead th {\n",
       "        text-align: right;\n",
       "    }\n",
       "</style>\n",
       "<table border=\"1\" class=\"dataframe\">\n",
       "  <thead>\n",
       "    <tr style=\"text-align: right;\">\n",
       "      <th></th>\n",
       "      <th>Unnamed: 0</th>\n",
       "      <th>DATE &amp; TIME</th>\n",
       "      <th>ACTUAL DEMAND(MW)</th>\n",
       "      <th>FORECAST DEMAND(MW)</th>\n",
       "      <th>REGION</th>\n",
       "    </tr>\n",
       "  </thead>\n",
       "  <tbody>\n",
       "    <tr>\n",
       "      <th>0</th>\n",
       "      <td>0</td>\n",
       "      <td>1 April 2017 00:00</td>\n",
       "      <td>3575</td>\n",
       "      <td>-</td>\n",
       "      <td>All Island</td>\n",
       "    </tr>\n",
       "    <tr>\n",
       "      <th>1</th>\n",
       "      <td>1</td>\n",
       "      <td>1 April 2017 00:15</td>\n",
       "      <td>3568</td>\n",
       "      <td>-</td>\n",
       "      <td>All Island</td>\n",
       "    </tr>\n",
       "    <tr>\n",
       "      <th>2</th>\n",
       "      <td>2</td>\n",
       "      <td>1 April 2017 00:30</td>\n",
       "      <td>3508</td>\n",
       "      <td>-</td>\n",
       "      <td>All Island</td>\n",
       "    </tr>\n",
       "    <tr>\n",
       "      <th>3</th>\n",
       "      <td>3</td>\n",
       "      <td>1 April 2017 00:45</td>\n",
       "      <td>3430</td>\n",
       "      <td>-</td>\n",
       "      <td>All Island</td>\n",
       "    </tr>\n",
       "    <tr>\n",
       "      <th>4</th>\n",
       "      <td>4</td>\n",
       "      <td>1 April 2017 01:00</td>\n",
       "      <td>3389</td>\n",
       "      <td>-</td>\n",
       "      <td>All Island</td>\n",
       "    </tr>\n",
       "  </tbody>\n",
       "</table>\n",
       "</div>"
      ],
      "text/plain": [
       "   Unnamed: 0         DATE & TIME   ACTUAL DEMAND(MW)  FORECAST DEMAND(MW)  \\\n",
       "0           0  1 April 2017 00:00                3575                    -   \n",
       "1           1  1 April 2017 00:15                3568                    -   \n",
       "2           2  1 April 2017 00:30                3508                    -   \n",
       "3           3  1 April 2017 00:45                3430                    -   \n",
       "4           4  1 April 2017 01:00                3389                    -   \n",
       "\n",
       "       REGION  \n",
       "0  All Island  \n",
       "1  All Island  \n",
       "2  All Island  \n",
       "3  All Island  \n",
       "4  All Island  "
      ]
     },
     "execution_count": 35,
     "metadata": {},
     "output_type": "execute_result"
    }
   ],
   "source": [
    "eir_grid_df.head()"
   ]
  },
  {
   "cell_type": "code",
   "execution_count": 42,
   "metadata": {},
   "outputs": [
    {
     "data": {
      "text/plain": [
       "Index(['Unnamed: 0', 'DATE & TIME', ' ACTUAL DEMAND(MW)',\n",
       "       ' FORECAST DEMAND(MW)', ' REGION'],\n",
       "      dtype='object')"
      ]
     },
     "execution_count": 42,
     "metadata": {},
     "output_type": "execute_result"
    }
   ],
   "source": [
    "eir_grid_df.columns"
   ]
  },
  {
   "attachments": {},
   "cell_type": "markdown",
   "metadata": {},
   "source": [
    "Note the whitespace at the start of the columns, this should be fixed during cleaning."
   ]
  },
  {
   "cell_type": "code",
   "execution_count": 43,
   "metadata": {},
   "outputs": [
    {
     "data": {
      "text/plain": [
       "count    2880.000000\n",
       "mean     3978.523611\n",
       "std       680.850631\n",
       "min      2655.000000\n",
       "25%      3312.250000\n",
       "50%      4067.000000\n",
       "75%      4633.250000\n",
       "max      5169.000000\n",
       "Name:  ACTUAL DEMAND(MW), dtype: float64"
      ]
     },
     "execution_count": 43,
     "metadata": {},
     "output_type": "execute_result"
    }
   ],
   "source": [
    "eir_grid_df.describe()[' ACTUAL DEMAND(MW)']"
   ]
  },
  {
   "cell_type": "code",
   "execution_count": 46,
   "metadata": {},
   "outputs": [
    {
     "data": {
      "text/plain": [
       "Unnamed: 0              2880\n",
       "DATE & TIME             2880\n",
       " ACTUAL DEMAND(MW)      1558\n",
       " FORECAST DEMAND(MW)       1\n",
       " REGION                    1\n",
       "dtype: int64"
      ]
     },
     "execution_count": 46,
     "metadata": {},
     "output_type": "execute_result"
    }
   ],
   "source": [
    "eir_grid_df.nunique()"
   ]
  },
  {
   "attachments": {},
   "cell_type": "markdown",
   "metadata": {},
   "source": [
    "Looks like it's only for one region (all of Ireland) as expected. "
   ]
  },
  {
   "cell_type": "code",
   "execution_count": 47,
   "metadata": {},
   "outputs": [
    {
     "name": "stdout",
     "output_type": "stream",
     "text": [
      "1 April 2017 00:00\n",
      "9 April 2017 23:45\n"
     ]
    }
   ],
   "source": [
    "print(eir_grid_df['DATE & TIME'].min())\n",
    "print(eir_grid_df['DATE & TIME'].max())"
   ]
  },
  {
   "attachments": {},
   "cell_type": "markdown",
   "metadata": {},
   "source": [
    "Looks like we have data for every 15 mins ranging from 1 April 2017 to 9 April 2017. \n",
    "Let's compare the later dataframes in this folder to check the structure looks the same. "
   ]
  },
  {
   "cell_type": "code",
   "execution_count": 54,
   "metadata": {},
   "outputs": [],
   "source": [
    "eir_grid_df = read_blob_to_pandas(bucket_name, blobs[30])"
   ]
  },
  {
   "cell_type": "code",
   "execution_count": 55,
   "metadata": {},
   "outputs": [
    {
     "name": "stdout",
     "output_type": "stream",
     "text": [
      "<class 'pandas.core.frame.DataFrame'>\n",
      "RangeIndex: 2880 entries, 0 to 2879\n",
      "Data columns (total 5 columns):\n",
      " #   Column                Non-Null Count  Dtype \n",
      "---  ------                --------------  ----- \n",
      " 0   Unnamed: 0            2880 non-null   int64 \n",
      " 1   DATE & TIME           2880 non-null   object\n",
      " 2    ACTUAL DEMAND(MW)    2880 non-null   object\n",
      " 3    FORECAST DEMAND(MW)  2880 non-null   object\n",
      " 4    REGION               2880 non-null   object\n",
      "dtypes: int64(1), object(4)\n",
      "memory usage: 112.6+ KB\n"
     ]
    }
   ],
   "source": [
    "eir_grid_df.info()"
   ]
  },
  {
   "attachments": {},
   "cell_type": "markdown",
   "metadata": {},
   "source": [
    "Looks like Demand here is an object not an int, something to convert during cleaning. This is due to the presence of missing values denoted \"-\". Lets see how many values we're missing. "
   ]
  },
  {
   "cell_type": "code",
   "execution_count": 63,
   "metadata": {},
   "outputs": [
    {
     "data": {
      "text/plain": [
       "Unnamed: 0                 0\n",
       "DATE & TIME                0\n",
       " ACTUAL DEMAND(MW)         1\n",
       " FORECAST DEMAND(MW)    2880\n",
       " REGION                    0\n",
       "dtype: int64"
      ]
     },
     "execution_count": 63,
     "metadata": {},
     "output_type": "execute_result"
    }
   ],
   "source": [
    "eir_grid_df = eir_grid_df.replace({\"-\":np.nan})\n",
    "eir_grid_df.isna().sum()"
   ]
  },
  {
   "attachments": {},
   "cell_type": "markdown",
   "metadata": {},
   "source": [
    "Only a single value of actual demand is missing, not a big problem. "
   ]
  },
  {
   "cell_type": "code",
   "execution_count": 62,
   "metadata": {},
   "outputs": [
    {
     "data": {
      "text/html": [
       "<div>\n",
       "<style scoped>\n",
       "    .dataframe tbody tr th:only-of-type {\n",
       "        vertical-align: middle;\n",
       "    }\n",
       "\n",
       "    .dataframe tbody tr th {\n",
       "        vertical-align: top;\n",
       "    }\n",
       "\n",
       "    .dataframe thead th {\n",
       "        text-align: right;\n",
       "    }\n",
       "</style>\n",
       "<table border=\"1\" class=\"dataframe\">\n",
       "  <thead>\n",
       "    <tr style=\"text-align: right;\">\n",
       "      <th></th>\n",
       "      <th>Unnamed: 0</th>\n",
       "      <th>DATE &amp; TIME</th>\n",
       "      <th>ACTUAL DEMAND(MW)</th>\n",
       "      <th>FORECAST DEMAND(MW)</th>\n",
       "      <th>REGION</th>\n",
       "    </tr>\n",
       "  </thead>\n",
       "  <tbody>\n",
       "    <tr>\n",
       "      <th>0</th>\n",
       "      <td>0</td>\n",
       "      <td>1 June 2019 00:00</td>\n",
       "      <td>3466</td>\n",
       "      <td>NaN</td>\n",
       "      <td>All Island</td>\n",
       "    </tr>\n",
       "    <tr>\n",
       "      <th>1</th>\n",
       "      <td>1</td>\n",
       "      <td>1 June 2019 00:15</td>\n",
       "      <td>3407</td>\n",
       "      <td>NaN</td>\n",
       "      <td>All Island</td>\n",
       "    </tr>\n",
       "    <tr>\n",
       "      <th>2</th>\n",
       "      <td>2</td>\n",
       "      <td>1 June 2019 00:30</td>\n",
       "      <td>3323</td>\n",
       "      <td>NaN</td>\n",
       "      <td>All Island</td>\n",
       "    </tr>\n",
       "    <tr>\n",
       "      <th>3</th>\n",
       "      <td>3</td>\n",
       "      <td>1 June 2019 00:45</td>\n",
       "      <td>3259</td>\n",
       "      <td>NaN</td>\n",
       "      <td>All Island</td>\n",
       "    </tr>\n",
       "    <tr>\n",
       "      <th>4</th>\n",
       "      <td>4</td>\n",
       "      <td>1 June 2019 01:00</td>\n",
       "      <td>3197</td>\n",
       "      <td>NaN</td>\n",
       "      <td>All Island</td>\n",
       "    </tr>\n",
       "  </tbody>\n",
       "</table>\n",
       "</div>"
      ],
      "text/plain": [
       "   Unnamed: 0        DATE & TIME  ACTUAL DEMAND(MW)   FORECAST DEMAND(MW)  \\\n",
       "0           0  1 June 2019 00:00               3466                   NaN   \n",
       "1           1  1 June 2019 00:15               3407                   NaN   \n",
       "2           2  1 June 2019 00:30               3323                   NaN   \n",
       "3           3  1 June 2019 00:45               3259                   NaN   \n",
       "4           4  1 June 2019 01:00               3197                   NaN   \n",
       "\n",
       "       REGION  \n",
       "0  All Island  \n",
       "1  All Island  \n",
       "2  All Island  \n",
       "3  All Island  \n",
       "4  All Island  "
      ]
     },
     "execution_count": 62,
     "metadata": {},
     "output_type": "execute_result"
    }
   ],
   "source": [
    "eir_grid_df.head()"
   ]
  },
  {
   "cell_type": "code",
   "execution_count": 58,
   "metadata": {},
   "outputs": [
    {
     "data": {
      "text/plain": [
       "Index(['Unnamed: 0', 'DATE & TIME', ' ACTUAL DEMAND(MW)',\n",
       "       ' FORECAST DEMAND(MW)', ' REGION'],\n",
       "      dtype='object')"
      ]
     },
     "execution_count": 58,
     "metadata": {},
     "output_type": "execute_result"
    }
   ],
   "source": [
    "eir_grid_df.columns"
   ]
  },
  {
   "attachments": {},
   "cell_type": "markdown",
   "metadata": {},
   "source": [
    "The rest of this looks the same as the original dataframe, enough so to assume they are the same structure. "
   ]
  },
  {
   "attachments": {},
   "cell_type": "markdown",
   "metadata": {},
   "source": [
    "## Generation"
   ]
  },
  {
   "cell_type": "code",
   "execution_count": 67,
   "metadata": {},
   "outputs": [],
   "source": [
    "#getting first generationActual blob name\n",
    "generation_actual_blob_name = [x for x in blobs if 'generationActual' in x][0] \n",
    "generation_actual_df = read_blob_to_pandas(bucket_name, generation_actual_blob_name)"
   ]
  },
  {
   "cell_type": "code",
   "execution_count": 69,
   "metadata": {},
   "outputs": [
    {
     "name": "stdout",
     "output_type": "stream",
     "text": [
      "<class 'pandas.core.frame.DataFrame'>\n",
      "RangeIndex: 2880 entries, 0 to 2879\n",
      "Data columns (total 4 columns):\n",
      " #   Column                  Non-Null Count  Dtype \n",
      "---  ------                  --------------  ----- \n",
      " 0   Unnamed: 0              2880 non-null   int64 \n",
      " 1   DATE & TIME             2880 non-null   object\n",
      " 2    ACTUAL GENERATION(MW)  2880 non-null   int64 \n",
      " 3    REGION                 2880 non-null   object\n",
      "dtypes: int64(2), object(2)\n",
      "memory usage: 90.1+ KB\n"
     ]
    }
   ],
   "source": [
    "generation_actual_df.info()"
   ]
  },
  {
   "cell_type": "code",
   "execution_count": null,
   "metadata": {},
   "outputs": [],
   "source": []
  }
 ],
 "metadata": {
  "kernelspec": {
   "display_name": "energy",
   "language": "python",
   "name": "python3"
  },
  "language_info": {
   "codemirror_mode": {
    "name": "ipython",
    "version": 3
   },
   "file_extension": ".py",
   "mimetype": "text/x-python",
   "name": "python",
   "nbconvert_exporter": "python",
   "pygments_lexer": "ipython3",
   "version": "3.10.9"
  },
  "orig_nbformat": 4,
  "vscode": {
   "interpreter": {
    "hash": "615d221a9ceee56c45717180d0e45e4f48445eec22bbc2adcd283093611382ad"
   }
  }
 },
 "nbformat": 4,
 "nbformat_minor": 2
}
