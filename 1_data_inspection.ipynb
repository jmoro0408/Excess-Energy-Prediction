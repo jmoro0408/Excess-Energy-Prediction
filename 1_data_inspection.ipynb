{
 "cells": [
  {
   "cell_type": "code",
   "execution_count": 1,
   "metadata": {},
   "outputs": [],
   "source": [
    "from pathlib import Path\n",
    "from gcp_interaction import read_blob_to_pandas, list_buckets, list_blobs\n",
    "import json\n",
    "import numpy as np"
   ]
  },
  {
   "cell_type": "code",
   "execution_count": 2,
   "metadata": {},
   "outputs": [],
   "source": [
    "with open(\"excess-energy-prediction-393ec78547e4.json\", \"r\") as f:\n",
    "    gcp_login_info = json.load(f)\n",
    "with open(\"gcp_info.json\", \"r\") as f:\n",
    "    bucket_name = json.load(f)[\"bucket_name\"]"
   ]
  },
  {
   "cell_type": "code",
   "execution_count": 3,
   "metadata": {},
   "outputs": [
    {
     "data": {
      "text/plain": [
       "['excess-energy-raw-data']"
      ]
     },
     "execution_count": 3,
     "metadata": {},
     "output_type": "execute_result"
    }
   ],
   "source": [
    "buckets = list_buckets(gcp_login_info[\"project_id\"])\n",
    "buckets"
   ]
  },
  {
   "cell_type": "code",
   "execution_count": 4,
   "metadata": {},
   "outputs": [
    {
     "data": {
      "text/plain": [
       "'Raw_Data/EirGrid/ALL/demandActual/2017/demandActual_ALL_2017_Apr.csv'"
      ]
     },
     "execution_count": 4,
     "metadata": {},
     "output_type": "execute_result"
    }
   ],
   "source": [
    "blobs = list_blobs(project_id=gcp_login_info[\"project_id\"], bucket_name=buckets[0])\n",
    "blobs[0]"
   ]
  },
  {
   "cell_type": "code",
   "execution_count": 5,
   "metadata": {},
   "outputs": [],
   "source": [
    "folders = []\n",
    "for blob in blobs:\n",
    "    blob = Path(blob)\n",
    "    for idx, i in enumerate(blob.parts):\n",
    "        if Path(i).suffix != \".csv\":\n",
    "            folders.append(str(\"-\" * idx + i))  # \"-\" gives an idea of folder level"
   ]
  },
  {
   "cell_type": "code",
   "execution_count": 6,
   "metadata": {},
   "outputs": [
    {
     "data": {
      "text/plain": [
       "['Raw_Data',\n",
       " '-EirGrid',\n",
       " '--ALL',\n",
       " '---demandActual',\n",
       " '----2017',\n",
       " '----2018',\n",
       " '----2019',\n",
       " '----2020',\n",
       " '---generationActual',\n",
       " '---windActual',\n",
       " '--NI',\n",
       " '--ROI',\n",
       " '-met',\n",
       " '--BELMULLET',\n",
       " '---Data_Licence.pdf',\n",
       " '---Data_Licence.txt',\n",
       " '---KeyHourly.txt',\n",
       " '--CORK AIRPORT',\n",
       " '--DUBLIN AIRPORT',\n",
       " '--SHANNON AIRPORT']"
      ]
     },
     "execution_count": 6,
     "metadata": {},
     "output_type": "execute_result"
    }
   ],
   "source": [
    "list(dict.fromkeys(folders))  # removing duplicates whilst maintatining order"
   ]
  },
  {
   "attachments": {},
   "cell_type": "markdown",
   "metadata": {},
   "source": [
    "This gives us a rough idea of the folder structure. I know that everything under -EirGrid -- ALL is repeated for --NI and --ROI. And everything under the Belmullet folder is repeated in Cork Dublin, and Shannon. "
   ]
  },
  {
   "attachments": {},
   "cell_type": "markdown",
   "metadata": {},
   "source": [
    "# EIRGrid"
   ]
  },
  {
   "attachments": {},
   "cell_type": "markdown",
   "metadata": {},
   "source": [
    "## Demand"
   ]
  },
  {
   "cell_type": "code",
   "execution_count": 15,
   "metadata": {},
   "outputs": [],
   "source": [
    "eir_grid_df = read_blob_to_pandas(bucket_name, blobs[0])"
   ]
  },
  {
   "cell_type": "code",
   "execution_count": 16,
   "metadata": {},
   "outputs": [
    {
     "name": "stdout",
     "output_type": "stream",
     "text": [
      "<class 'pandas.core.frame.DataFrame'>\n",
      "RangeIndex: 2880 entries, 0 to 2879\n",
      "Data columns (total 5 columns):\n",
      " #   Column                Non-Null Count  Dtype \n",
      "---  ------                --------------  ----- \n",
      " 0   Unnamed: 0            2880 non-null   int64 \n",
      " 1   DATE & TIME           2880 non-null   object\n",
      " 2    ACTUAL DEMAND(MW)    2880 non-null   int64 \n",
      " 3    FORECAST DEMAND(MW)  2880 non-null   object\n",
      " 4    REGION               2880 non-null   object\n",
      "dtypes: int64(2), object(3)\n",
      "memory usage: 112.6+ KB\n"
     ]
    }
   ],
   "source": [
    "eir_grid_df.info()"
   ]
  },
  {
   "attachments": {},
   "cell_type": "markdown",
   "metadata": {},
   "source": [
    "Although it looks like there is no missing data, the 'FORECAST DEMAND(MW)' column is actually empty. Will need to replace these with NA's during cleaning, and transform the 'DATE & TIME' to proper datetime objects. "
   ]
  },
  {
   "cell_type": "code",
   "execution_count": 17,
   "metadata": {},
   "outputs": [
    {
     "data": {
      "text/html": [
       "<div>\n",
       "<style scoped>\n",
       "    .dataframe tbody tr th:only-of-type {\n",
       "        vertical-align: middle;\n",
       "    }\n",
       "\n",
       "    .dataframe tbody tr th {\n",
       "        vertical-align: top;\n",
       "    }\n",
       "\n",
       "    .dataframe thead th {\n",
       "        text-align: right;\n",
       "    }\n",
       "</style>\n",
       "<table border=\"1\" class=\"dataframe\">\n",
       "  <thead>\n",
       "    <tr style=\"text-align: right;\">\n",
       "      <th></th>\n",
       "      <th>Unnamed: 0</th>\n",
       "      <th>DATE &amp; TIME</th>\n",
       "      <th>ACTUAL DEMAND(MW)</th>\n",
       "      <th>FORECAST DEMAND(MW)</th>\n",
       "      <th>REGION</th>\n",
       "    </tr>\n",
       "  </thead>\n",
       "  <tbody>\n",
       "    <tr>\n",
       "      <th>0</th>\n",
       "      <td>0</td>\n",
       "      <td>1 April 2017 00:00</td>\n",
       "      <td>3575</td>\n",
       "      <td>-</td>\n",
       "      <td>All Island</td>\n",
       "    </tr>\n",
       "    <tr>\n",
       "      <th>1</th>\n",
       "      <td>1</td>\n",
       "      <td>1 April 2017 00:15</td>\n",
       "      <td>3568</td>\n",
       "      <td>-</td>\n",
       "      <td>All Island</td>\n",
       "    </tr>\n",
       "    <tr>\n",
       "      <th>2</th>\n",
       "      <td>2</td>\n",
       "      <td>1 April 2017 00:30</td>\n",
       "      <td>3508</td>\n",
       "      <td>-</td>\n",
       "      <td>All Island</td>\n",
       "    </tr>\n",
       "    <tr>\n",
       "      <th>3</th>\n",
       "      <td>3</td>\n",
       "      <td>1 April 2017 00:45</td>\n",
       "      <td>3430</td>\n",
       "      <td>-</td>\n",
       "      <td>All Island</td>\n",
       "    </tr>\n",
       "    <tr>\n",
       "      <th>4</th>\n",
       "      <td>4</td>\n",
       "      <td>1 April 2017 01:00</td>\n",
       "      <td>3389</td>\n",
       "      <td>-</td>\n",
       "      <td>All Island</td>\n",
       "    </tr>\n",
       "  </tbody>\n",
       "</table>\n",
       "</div>"
      ],
      "text/plain": [
       "   Unnamed: 0         DATE & TIME   ACTUAL DEMAND(MW)  FORECAST DEMAND(MW)  \\\n",
       "0           0  1 April 2017 00:00                3575                    -   \n",
       "1           1  1 April 2017 00:15                3568                    -   \n",
       "2           2  1 April 2017 00:30                3508                    -   \n",
       "3           3  1 April 2017 00:45                3430                    -   \n",
       "4           4  1 April 2017 01:00                3389                    -   \n",
       "\n",
       "       REGION  \n",
       "0  All Island  \n",
       "1  All Island  \n",
       "2  All Island  \n",
       "3  All Island  \n",
       "4  All Island  "
      ]
     },
     "execution_count": 17,
     "metadata": {},
     "output_type": "execute_result"
    }
   ],
   "source": [
    "eir_grid_df.head()"
   ]
  },
  {
   "cell_type": "code",
   "execution_count": 18,
   "metadata": {},
   "outputs": [
    {
     "data": {
      "text/plain": [
       "Index(['Unnamed: 0', 'DATE & TIME', ' ACTUAL DEMAND(MW)',\n",
       "       ' FORECAST DEMAND(MW)', ' REGION'],\n",
       "      dtype='object')"
      ]
     },
     "execution_count": 18,
     "metadata": {},
     "output_type": "execute_result"
    }
   ],
   "source": [
    "eir_grid_df.columns"
   ]
  },
  {
   "attachments": {},
   "cell_type": "markdown",
   "metadata": {},
   "source": [
    "Note the whitespace at the start of the columns, this should be fixed during cleaning."
   ]
  },
  {
   "cell_type": "code",
   "execution_count": 19,
   "metadata": {},
   "outputs": [
    {
     "data": {
      "text/plain": [
       "count    2880.000000\n",
       "mean     3978.523611\n",
       "std       680.850631\n",
       "min      2655.000000\n",
       "25%      3312.250000\n",
       "50%      4067.000000\n",
       "75%      4633.250000\n",
       "max      5169.000000\n",
       "Name:  ACTUAL DEMAND(MW), dtype: float64"
      ]
     },
     "execution_count": 19,
     "metadata": {},
     "output_type": "execute_result"
    }
   ],
   "source": [
    "eir_grid_df.describe()[\" ACTUAL DEMAND(MW)\"]"
   ]
  },
  {
   "cell_type": "code",
   "execution_count": 20,
   "metadata": {},
   "outputs": [
    {
     "data": {
      "text/plain": [
       "Unnamed: 0              2880\n",
       "DATE & TIME             2880\n",
       " ACTUAL DEMAND(MW)      1558\n",
       " FORECAST DEMAND(MW)       1\n",
       " REGION                    1\n",
       "dtype: int64"
      ]
     },
     "execution_count": 20,
     "metadata": {},
     "output_type": "execute_result"
    }
   ],
   "source": [
    "eir_grid_df.nunique()"
   ]
  },
  {
   "attachments": {},
   "cell_type": "markdown",
   "metadata": {},
   "source": [
    "Looks like it's only for one region (all of Ireland) as expected. "
   ]
  },
  {
   "cell_type": "code",
   "execution_count": 21,
   "metadata": {},
   "outputs": [
    {
     "name": "stdout",
     "output_type": "stream",
     "text": [
      "1 April 2017 00:00\n",
      "9 April 2017 23:45\n"
     ]
    }
   ],
   "source": [
    "print(eir_grid_df[\"DATE & TIME\"].min())\n",
    "print(eir_grid_df[\"DATE & TIME\"].max())"
   ]
  },
  {
   "attachments": {},
   "cell_type": "markdown",
   "metadata": {},
   "source": [
    "Looks like we have data for every 15 mins ranging from 1 April 2017 to 9 April 2017. \n",
    "Let's compare the later dataframes in this folder to check the structure looks the same. "
   ]
  },
  {
   "cell_type": "code",
   "execution_count": 22,
   "metadata": {},
   "outputs": [],
   "source": [
    "eir_grid_df = read_blob_to_pandas(bucket_name, blobs[30])"
   ]
  },
  {
   "cell_type": "code",
   "execution_count": 23,
   "metadata": {},
   "outputs": [
    {
     "name": "stdout",
     "output_type": "stream",
     "text": [
      "<class 'pandas.core.frame.DataFrame'>\n",
      "RangeIndex: 2880 entries, 0 to 2879\n",
      "Data columns (total 5 columns):\n",
      " #   Column                Non-Null Count  Dtype \n",
      "---  ------                --------------  ----- \n",
      " 0   Unnamed: 0            2880 non-null   int64 \n",
      " 1   DATE & TIME           2880 non-null   object\n",
      " 2    ACTUAL DEMAND(MW)    2880 non-null   object\n",
      " 3    FORECAST DEMAND(MW)  2880 non-null   object\n",
      " 4    REGION               2880 non-null   object\n",
      "dtypes: int64(1), object(4)\n",
      "memory usage: 112.6+ KB\n"
     ]
    }
   ],
   "source": [
    "eir_grid_df.info()"
   ]
  },
  {
   "attachments": {},
   "cell_type": "markdown",
   "metadata": {},
   "source": [
    "Looks like Demand here is an object not an int, something to convert during cleaning. This is due to the presence of missing values denoted \"-\". Lets see how many values we're missing. "
   ]
  },
  {
   "cell_type": "code",
   "execution_count": 24,
   "metadata": {},
   "outputs": [
    {
     "data": {
      "text/plain": [
       "Unnamed: 0                 0\n",
       "DATE & TIME                0\n",
       " ACTUAL DEMAND(MW)         1\n",
       " FORECAST DEMAND(MW)    2880\n",
       " REGION                    0\n",
       "dtype: int64"
      ]
     },
     "execution_count": 24,
     "metadata": {},
     "output_type": "execute_result"
    }
   ],
   "source": [
    "eir_grid_df = eir_grid_df.replace({\"-\": np.nan})\n",
    "eir_grid_df.isna().sum()"
   ]
  },
  {
   "attachments": {},
   "cell_type": "markdown",
   "metadata": {},
   "source": [
    "Only a single value of actual demand is missing, not a big problem. "
   ]
  },
  {
   "cell_type": "code",
   "execution_count": 25,
   "metadata": {},
   "outputs": [
    {
     "data": {
      "text/html": [
       "<div>\n",
       "<style scoped>\n",
       "    .dataframe tbody tr th:only-of-type {\n",
       "        vertical-align: middle;\n",
       "    }\n",
       "\n",
       "    .dataframe tbody tr th {\n",
       "        vertical-align: top;\n",
       "    }\n",
       "\n",
       "    .dataframe thead th {\n",
       "        text-align: right;\n",
       "    }\n",
       "</style>\n",
       "<table border=\"1\" class=\"dataframe\">\n",
       "  <thead>\n",
       "    <tr style=\"text-align: right;\">\n",
       "      <th></th>\n",
       "      <th>Unnamed: 0</th>\n",
       "      <th>DATE &amp; TIME</th>\n",
       "      <th>ACTUAL DEMAND(MW)</th>\n",
       "      <th>FORECAST DEMAND(MW)</th>\n",
       "      <th>REGION</th>\n",
       "    </tr>\n",
       "  </thead>\n",
       "  <tbody>\n",
       "    <tr>\n",
       "      <th>0</th>\n",
       "      <td>0</td>\n",
       "      <td>1 June 2019 00:00</td>\n",
       "      <td>3466</td>\n",
       "      <td>NaN</td>\n",
       "      <td>All Island</td>\n",
       "    </tr>\n",
       "    <tr>\n",
       "      <th>1</th>\n",
       "      <td>1</td>\n",
       "      <td>1 June 2019 00:15</td>\n",
       "      <td>3407</td>\n",
       "      <td>NaN</td>\n",
       "      <td>All Island</td>\n",
       "    </tr>\n",
       "    <tr>\n",
       "      <th>2</th>\n",
       "      <td>2</td>\n",
       "      <td>1 June 2019 00:30</td>\n",
       "      <td>3323</td>\n",
       "      <td>NaN</td>\n",
       "      <td>All Island</td>\n",
       "    </tr>\n",
       "    <tr>\n",
       "      <th>3</th>\n",
       "      <td>3</td>\n",
       "      <td>1 June 2019 00:45</td>\n",
       "      <td>3259</td>\n",
       "      <td>NaN</td>\n",
       "      <td>All Island</td>\n",
       "    </tr>\n",
       "    <tr>\n",
       "      <th>4</th>\n",
       "      <td>4</td>\n",
       "      <td>1 June 2019 01:00</td>\n",
       "      <td>3197</td>\n",
       "      <td>NaN</td>\n",
       "      <td>All Island</td>\n",
       "    </tr>\n",
       "  </tbody>\n",
       "</table>\n",
       "</div>"
      ],
      "text/plain": [
       "   Unnamed: 0        DATE & TIME  ACTUAL DEMAND(MW)   FORECAST DEMAND(MW)  \\\n",
       "0           0  1 June 2019 00:00               3466                   NaN   \n",
       "1           1  1 June 2019 00:15               3407                   NaN   \n",
       "2           2  1 June 2019 00:30               3323                   NaN   \n",
       "3           3  1 June 2019 00:45               3259                   NaN   \n",
       "4           4  1 June 2019 01:00               3197                   NaN   \n",
       "\n",
       "       REGION  \n",
       "0  All Island  \n",
       "1  All Island  \n",
       "2  All Island  \n",
       "3  All Island  \n",
       "4  All Island  "
      ]
     },
     "execution_count": 25,
     "metadata": {},
     "output_type": "execute_result"
    }
   ],
   "source": [
    "eir_grid_df.head()"
   ]
  },
  {
   "cell_type": "code",
   "execution_count": 26,
   "metadata": {},
   "outputs": [
    {
     "data": {
      "text/plain": [
       "Index(['Unnamed: 0', 'DATE & TIME', ' ACTUAL DEMAND(MW)',\n",
       "       ' FORECAST DEMAND(MW)', ' REGION'],\n",
       "      dtype='object')"
      ]
     },
     "execution_count": 26,
     "metadata": {},
     "output_type": "execute_result"
    }
   ],
   "source": [
    "eir_grid_df.columns"
   ]
  },
  {
   "attachments": {},
   "cell_type": "markdown",
   "metadata": {},
   "source": [
    "The rest of this looks the same as the original dataframe, enough so to assume they are the same structure. "
   ]
  },
  {
   "attachments": {},
   "cell_type": "markdown",
   "metadata": {},
   "source": [
    "## Generation"
   ]
  },
  {
   "cell_type": "code",
   "execution_count": 27,
   "metadata": {},
   "outputs": [],
   "source": [
    "# getting first generationActual blob name\n",
    "generation_actual_blob_name = [x for x in blobs if \"generationActual\" in x][0]\n",
    "generation_actual_df = read_blob_to_pandas(bucket_name, generation_actual_blob_name)"
   ]
  },
  {
   "cell_type": "code",
   "execution_count": 28,
   "metadata": {},
   "outputs": [
    {
     "name": "stdout",
     "output_type": "stream",
     "text": [
      "<class 'pandas.core.frame.DataFrame'>\n",
      "RangeIndex: 2880 entries, 0 to 2879\n",
      "Data columns (total 4 columns):\n",
      " #   Column                  Non-Null Count  Dtype \n",
      "---  ------                  --------------  ----- \n",
      " 0   Unnamed: 0              2880 non-null   int64 \n",
      " 1   DATE & TIME             2880 non-null   object\n",
      " 2    ACTUAL GENERATION(MW)  2880 non-null   int64 \n",
      " 3    REGION                 2880 non-null   object\n",
      "dtypes: int64(2), object(2)\n",
      "memory usage: 90.1+ KB\n"
     ]
    }
   ],
   "source": [
    "generation_actual_df.info()"
   ]
  },
  {
   "cell_type": "code",
   "execution_count": 29,
   "metadata": {},
   "outputs": [
    {
     "data": {
      "text/html": [
       "<div>\n",
       "<style scoped>\n",
       "    .dataframe tbody tr th:only-of-type {\n",
       "        vertical-align: middle;\n",
       "    }\n",
       "\n",
       "    .dataframe tbody tr th {\n",
       "        vertical-align: top;\n",
       "    }\n",
       "\n",
       "    .dataframe thead th {\n",
       "        text-align: right;\n",
       "    }\n",
       "</style>\n",
       "<table border=\"1\" class=\"dataframe\">\n",
       "  <thead>\n",
       "    <tr style=\"text-align: right;\">\n",
       "      <th></th>\n",
       "      <th>Unnamed: 0</th>\n",
       "      <th>DATE &amp; TIME</th>\n",
       "      <th>ACTUAL GENERATION(MW)</th>\n",
       "      <th>REGION</th>\n",
       "    </tr>\n",
       "  </thead>\n",
       "  <tbody>\n",
       "    <tr>\n",
       "      <th>0</th>\n",
       "      <td>0</td>\n",
       "      <td>1 April 2017 00:00</td>\n",
       "      <td>3818</td>\n",
       "      <td>All Island</td>\n",
       "    </tr>\n",
       "    <tr>\n",
       "      <th>1</th>\n",
       "      <td>1</td>\n",
       "      <td>1 April 2017 00:15</td>\n",
       "      <td>3823</td>\n",
       "      <td>All Island</td>\n",
       "    </tr>\n",
       "    <tr>\n",
       "      <th>2</th>\n",
       "      <td>2</td>\n",
       "      <td>1 April 2017 00:30</td>\n",
       "      <td>3763</td>\n",
       "      <td>All Island</td>\n",
       "    </tr>\n",
       "    <tr>\n",
       "      <th>3</th>\n",
       "      <td>3</td>\n",
       "      <td>1 April 2017 00:45</td>\n",
       "      <td>3746</td>\n",
       "      <td>All Island</td>\n",
       "    </tr>\n",
       "    <tr>\n",
       "      <th>4</th>\n",
       "      <td>4</td>\n",
       "      <td>1 April 2017 01:00</td>\n",
       "      <td>3635</td>\n",
       "      <td>All Island</td>\n",
       "    </tr>\n",
       "  </tbody>\n",
       "</table>\n",
       "</div>"
      ],
      "text/plain": [
       "   Unnamed: 0         DATE & TIME   ACTUAL GENERATION(MW)      REGION\n",
       "0           0  1 April 2017 00:00                    3818  All Island\n",
       "1           1  1 April 2017 00:15                    3823  All Island\n",
       "2           2  1 April 2017 00:30                    3763  All Island\n",
       "3           3  1 April 2017 00:45                    3746  All Island\n",
       "4           4  1 April 2017 01:00                    3635  All Island"
      ]
     },
     "execution_count": 29,
     "metadata": {},
     "output_type": "execute_result"
    }
   ],
   "source": [
    "generation_actual_df.head()"
   ]
  },
  {
   "cell_type": "code",
   "execution_count": 30,
   "metadata": {},
   "outputs": [
    {
     "data": {
      "text/plain": [
       "Unnamed: 0                0\n",
       "DATE & TIME               0\n",
       " ACTUAL GENERATION(MW)    0\n",
       " REGION                   0\n",
       "dtype: int64"
      ]
     },
     "execution_count": 30,
     "metadata": {},
     "output_type": "execute_result"
    }
   ],
   "source": [
    "generation_actual_df.isna().sum()"
   ]
  },
  {
   "attachments": {},
   "cell_type": "markdown",
   "metadata": {},
   "source": [
    "## Actual"
   ]
  },
  {
   "cell_type": "code",
   "execution_count": 31,
   "metadata": {},
   "outputs": [],
   "source": [
    "# getting first generationActual blob name\n",
    "wind_actual_blob_name = [x for x in blobs if \"windActual\" in x][0]\n",
    "wind_actual_df = read_blob_to_pandas(bucket_name, wind_actual_blob_name)"
   ]
  },
  {
   "cell_type": "code",
   "execution_count": 32,
   "metadata": {},
   "outputs": [
    {
     "name": "stdout",
     "output_type": "stream",
     "text": [
      "<class 'pandas.core.frame.DataFrame'>\n",
      "RangeIndex: 2880 entries, 0 to 2879\n",
      "Data columns (total 5 columns):\n",
      " #   Column              Non-Null Count  Dtype \n",
      "---  ------              --------------  ----- \n",
      " 0   Unnamed: 0          2880 non-null   int64 \n",
      " 1   DATE & TIME         2880 non-null   object\n",
      " 2    FORECAST WIND(MW)  2880 non-null   int64 \n",
      " 3     ACTUAL WIND(MW)   2880 non-null   int64 \n",
      " 4    REGION             2880 non-null   object\n",
      "dtypes: int64(3), object(2)\n",
      "memory usage: 112.6+ KB\n"
     ]
    }
   ],
   "source": [
    "wind_actual_df.info()"
   ]
  },
  {
   "cell_type": "code",
   "execution_count": 33,
   "metadata": {},
   "outputs": [
    {
     "data": {
      "text/html": [
       "<div>\n",
       "<style scoped>\n",
       "    .dataframe tbody tr th:only-of-type {\n",
       "        vertical-align: middle;\n",
       "    }\n",
       "\n",
       "    .dataframe tbody tr th {\n",
       "        vertical-align: top;\n",
       "    }\n",
       "\n",
       "    .dataframe thead th {\n",
       "        text-align: right;\n",
       "    }\n",
       "</style>\n",
       "<table border=\"1\" class=\"dataframe\">\n",
       "  <thead>\n",
       "    <tr style=\"text-align: right;\">\n",
       "      <th></th>\n",
       "      <th>Unnamed: 0</th>\n",
       "      <th>DATE &amp; TIME</th>\n",
       "      <th>FORECAST WIND(MW)</th>\n",
       "      <th>ACTUAL WIND(MW)</th>\n",
       "      <th>REGION</th>\n",
       "    </tr>\n",
       "  </thead>\n",
       "  <tbody>\n",
       "    <tr>\n",
       "      <th>0</th>\n",
       "      <td>0</td>\n",
       "      <td>1 April 2017 00:00</td>\n",
       "      <td>232</td>\n",
       "      <td>121</td>\n",
       "      <td>All Island</td>\n",
       "    </tr>\n",
       "    <tr>\n",
       "      <th>1</th>\n",
       "      <td>1</td>\n",
       "      <td>1 April 2017 00:15</td>\n",
       "      <td>249</td>\n",
       "      <td>112</td>\n",
       "      <td>All Island</td>\n",
       "    </tr>\n",
       "    <tr>\n",
       "      <th>2</th>\n",
       "      <td>2</td>\n",
       "      <td>1 April 2017 00:30</td>\n",
       "      <td>266</td>\n",
       "      <td>106</td>\n",
       "      <td>All Island</td>\n",
       "    </tr>\n",
       "    <tr>\n",
       "      <th>3</th>\n",
       "      <td>3</td>\n",
       "      <td>1 April 2017 00:45</td>\n",
       "      <td>283</td>\n",
       "      <td>94</td>\n",
       "      <td>All Island</td>\n",
       "    </tr>\n",
       "    <tr>\n",
       "      <th>4</th>\n",
       "      <td>4</td>\n",
       "      <td>1 April 2017 01:00</td>\n",
       "      <td>204</td>\n",
       "      <td>140</td>\n",
       "      <td>All Island</td>\n",
       "    </tr>\n",
       "  </tbody>\n",
       "</table>\n",
       "</div>"
      ],
      "text/plain": [
       "   Unnamed: 0         DATE & TIME   FORECAST WIND(MW)    ACTUAL WIND(MW)  \\\n",
       "0           0  1 April 2017 00:00                 232                121   \n",
       "1           1  1 April 2017 00:15                 249                112   \n",
       "2           2  1 April 2017 00:30                 266                106   \n",
       "3           3  1 April 2017 00:45                 283                 94   \n",
       "4           4  1 April 2017 01:00                 204                140   \n",
       "\n",
       "       REGION  \n",
       "0  All Island  \n",
       "1  All Island  \n",
       "2  All Island  \n",
       "3  All Island  \n",
       "4  All Island  "
      ]
     },
     "execution_count": 33,
     "metadata": {},
     "output_type": "execute_result"
    }
   ],
   "source": [
    "wind_actual_df.head()"
   ]
  },
  {
   "cell_type": "code",
   "execution_count": 34,
   "metadata": {},
   "outputs": [
    {
     "data": {
      "text/plain": [
       "Unnamed: 0            0\n",
       "DATE & TIME           0\n",
       " FORECAST WIND(MW)    0\n",
       "  ACTUAL WIND(MW)     0\n",
       " REGION               0\n",
       "dtype: int64"
      ]
     },
     "execution_count": 34,
     "metadata": {},
     "output_type": "execute_result"
    }
   ],
   "source": [
    "wind_actual_df.isna().sum()"
   ]
  },
  {
   "attachments": {},
   "cell_type": "markdown",
   "metadata": {},
   "source": [
    "# Met "
   ]
  },
  {
   "attachments": {},
   "cell_type": "markdown",
   "metadata": {},
   "source": [
    "## Belmullet"
   ]
  },
  {
   "attachments": {},
   "cell_type": "markdown",
   "metadata": {},
   "source": [
    "The second half of our data includes weather info gathered from various airports around Ireland. "
   ]
  },
  {
   "cell_type": "code",
   "execution_count": 28,
   "metadata": {},
   "outputs": [
    {
     "name": "stderr",
     "output_type": "stream",
     "text": [
      "/Users/jamesmoro/Documents/Python/Excess-Energy-Prediction/gcp_interaction.py:78: ParserWarning: Falling back to the 'python' engine because the 'c' engine does not support regex separators (separators > 1 char and different from '\\s+' are interpreted as regex); you can avoid this warning by specifying engine='python'.\n",
      "  return pd.read_csv(StringIO(data_str), **kwargs)\n"
     ]
    }
   ],
   "source": [
    "belmullet_dir = r\"Raw_Data/met/BELMULLET/belmullet.csv\"\n",
    "belmullet_df = read_blob_to_pandas(\n",
    "    bucket_name, belmullet_dir, header=20, low_memory=False\n",
    ")\n",
    "belmullet_key_df = read_blob_to_pandas(\n",
    "    bucket_name, belmullet_dir, sep=\"delimiter\", header=None\n",
    ")"
   ]
  },
  {
   "attachments": {},
   "cell_type": "markdown",
   "metadata": {},
   "source": [
    "The first 20 rows of the df contain info on the column headers and general weather station info. "
   ]
  },
  {
   "cell_type": "code",
   "execution_count": 29,
   "metadata": {},
   "outputs": [
    {
     "data": {
      "text/plain": [
       "['Station Name: BELMULLET',\n",
       " 'Station Height: 9 M',\n",
       " 'Latitude:54.228  ,Longitude: -10.007',\n",
       " 'date:  -  Date and Time (utc)',\n",
       " 'rain:  -  Precipitation Amount (mm)',\n",
       " 'temp:  -  Air Temperature (C)',\n",
       " 'wetb:  -  Wet Bulb Temperature (C)',\n",
       " 'dewpt: -  Dew Point Temperature (C)',\n",
       " 'rhum:  -  Relative Humidity (%)',\n",
       " 'vappr: -  Vapour Pressure (hPa)',\n",
       " 'msl:   -  Mean Sea Level Pressure (hPa)',\n",
       " 'wdsp:  -  Mean Wind Speed (knot)',\n",
       " 'wddir: -  Predominant Wind Direction (degree)',\n",
       " 'ww:    -  Synop code for Present Weather',\n",
       " 'w:     -  Synop code for Past Weather',\n",
       " 'sun:   -  Sunshine duration (hours)',\n",
       " 'vis:   -  Visibility (m)',\n",
       " \"clht:  -  Cloud height (100's of ft) - 999 if none\",\n",
       " 'clamt: -  Cloud amount',\n",
       " 'ind:   -  Indicator']"
      ]
     },
     "execution_count": 29,
     "metadata": {},
     "output_type": "execute_result"
    }
   ],
   "source": [
    "belmullet_info = belmullet_key_df[:20][0].to_list()\n",
    "del belmullet_key_df\n",
    "belmullet_info"
   ]
  },
  {
   "attachments": {},
   "cell_type": "markdown",
   "metadata": {},
   "source": [
    "We aren't interested in some of these features and can drop them when we're cleaning. "
   ]
  },
  {
   "cell_type": "code",
   "execution_count": 30,
   "metadata": {},
   "outputs": [
    {
     "name": "stdout",
     "output_type": "stream",
     "text": [
      "<class 'pandas.core.frame.DataFrame'>\n",
      "RangeIndex: 581842 entries, 0 to 581841\n",
      "Data columns (total 21 columns):\n",
      " #   Column  Non-Null Count   Dtype  \n",
      "---  ------  --------------   -----  \n",
      " 0   date    581842 non-null  object \n",
      " 1   ind     581842 non-null  int64  \n",
      " 2   rain    581842 non-null  float64\n",
      " 3   ind.1   581842 non-null  int64  \n",
      " 4   temp    581842 non-null  float64\n",
      " 5   ind.2   581842 non-null  int64  \n",
      " 6   wetb    581842 non-null  float64\n",
      " 7   dewpt   581842 non-null  float64\n",
      " 8   vappr   581842 non-null  float64\n",
      " 9   rhum    581842 non-null  int64  \n",
      " 10  msl     581842 non-null  float64\n",
      " 11  ind.3   581842 non-null  int64  \n",
      " 12  wdsp    581842 non-null  object \n",
      " 13  ind.4   581842 non-null  int64  \n",
      " 14  wddir   581842 non-null  object \n",
      " 15  ww      581842 non-null  object \n",
      " 16  w       581842 non-null  object \n",
      " 17  sun     581842 non-null  object \n",
      " 18  vis     581842 non-null  object \n",
      " 19  clht    581842 non-null  object \n",
      " 20  clamt   581842 non-null  object \n",
      "dtypes: float64(6), int64(6), object(9)\n",
      "memory usage: 93.2+ MB\n"
     ]
    }
   ],
   "source": [
    "belmullet_df.info()"
   ]
  },
  {
   "cell_type": "code",
   "execution_count": 21,
   "metadata": {},
   "outputs": [
    {
     "data": {
      "text/html": [
       "<div>\n",
       "<style scoped>\n",
       "    .dataframe tbody tr th:only-of-type {\n",
       "        vertical-align: middle;\n",
       "    }\n",
       "\n",
       "    .dataframe tbody tr th {\n",
       "        vertical-align: top;\n",
       "    }\n",
       "\n",
       "    .dataframe thead th {\n",
       "        text-align: right;\n",
       "    }\n",
       "</style>\n",
       "<table border=\"1\" class=\"dataframe\">\n",
       "  <thead>\n",
       "    <tr style=\"text-align: right;\">\n",
       "      <th></th>\n",
       "      <th>date</th>\n",
       "      <th>ind</th>\n",
       "      <th>rain</th>\n",
       "      <th>ind.1</th>\n",
       "      <th>temp</th>\n",
       "      <th>ind.2</th>\n",
       "      <th>wetb</th>\n",
       "      <th>dewpt</th>\n",
       "      <th>vappr</th>\n",
       "      <th>rhum</th>\n",
       "      <th>...</th>\n",
       "      <th>ind.3</th>\n",
       "      <th>wdsp</th>\n",
       "      <th>ind.4</th>\n",
       "      <th>wddir</th>\n",
       "      <th>ww</th>\n",
       "      <th>w</th>\n",
       "      <th>sun</th>\n",
       "      <th>vis</th>\n",
       "      <th>clht</th>\n",
       "      <th>clamt</th>\n",
       "    </tr>\n",
       "  </thead>\n",
       "  <tbody>\n",
       "    <tr>\n",
       "      <th>0</th>\n",
       "      <td>16-sep-1956 15:00</td>\n",
       "      <td>0</td>\n",
       "      <td>0.0</td>\n",
       "      <td>0</td>\n",
       "      <td>14.4</td>\n",
       "      <td>0</td>\n",
       "      <td>12.1</td>\n",
       "      <td>10.0</td>\n",
       "      <td>12.4</td>\n",
       "      <td>76</td>\n",
       "      <td>...</td>\n",
       "      <td>1</td>\n",
       "      <td>0</td>\n",
       "      <td>1</td>\n",
       "      <td>0</td>\n",
       "      <td>1</td>\n",
       "      <td>2</td>\n",
       "      <td>0.1</td>\n",
       "      <td>16000</td>\n",
       "      <td>200</td>\n",
       "      <td>5</td>\n",
       "    </tr>\n",
       "    <tr>\n",
       "      <th>1</th>\n",
       "      <td>16-sep-1956 16:00</td>\n",
       "      <td>0</td>\n",
       "      <td>0.0</td>\n",
       "      <td>0</td>\n",
       "      <td>13.9</td>\n",
       "      <td>0</td>\n",
       "      <td>11.6</td>\n",
       "      <td>9.4</td>\n",
       "      <td>11.9</td>\n",
       "      <td>75</td>\n",
       "      <td>...</td>\n",
       "      <td>1</td>\n",
       "      <td>0</td>\n",
       "      <td>1</td>\n",
       "      <td>0</td>\n",
       "      <td>1</td>\n",
       "      <td>1</td>\n",
       "      <td>0.1</td>\n",
       "      <td>24000</td>\n",
       "      <td>999</td>\n",
       "      <td>4</td>\n",
       "    </tr>\n",
       "    <tr>\n",
       "      <th>2</th>\n",
       "      <td>16-sep-1956 17:00</td>\n",
       "      <td>0</td>\n",
       "      <td>0.0</td>\n",
       "      <td>0</td>\n",
       "      <td>14.2</td>\n",
       "      <td>0</td>\n",
       "      <td>12.0</td>\n",
       "      <td>10.0</td>\n",
       "      <td>12.3</td>\n",
       "      <td>76</td>\n",
       "      <td>...</td>\n",
       "      <td>1</td>\n",
       "      <td>0</td>\n",
       "      <td>1</td>\n",
       "      <td>0</td>\n",
       "      <td>3</td>\n",
       "      <td>1</td>\n",
       "      <td>0.4</td>\n",
       "      <td>19000</td>\n",
       "      <td>90</td>\n",
       "      <td>5</td>\n",
       "    </tr>\n",
       "    <tr>\n",
       "      <th>3</th>\n",
       "      <td>16-sep-1956 18:00</td>\n",
       "      <td>0</td>\n",
       "      <td>0.0</td>\n",
       "      <td>0</td>\n",
       "      <td>13.0</td>\n",
       "      <td>0</td>\n",
       "      <td>11.6</td>\n",
       "      <td>10.0</td>\n",
       "      <td>12.6</td>\n",
       "      <td>85</td>\n",
       "      <td>...</td>\n",
       "      <td>1</td>\n",
       "      <td>0</td>\n",
       "      <td>1</td>\n",
       "      <td>0</td>\n",
       "      <td>1</td>\n",
       "      <td>1</td>\n",
       "      <td>0.0</td>\n",
       "      <td>30000</td>\n",
       "      <td>45</td>\n",
       "      <td>4</td>\n",
       "    </tr>\n",
       "    <tr>\n",
       "      <th>4</th>\n",
       "      <td>16-sep-1956 19:00</td>\n",
       "      <td>0</td>\n",
       "      <td>0.0</td>\n",
       "      <td>0</td>\n",
       "      <td>12.6</td>\n",
       "      <td>0</td>\n",
       "      <td>11.7</td>\n",
       "      <td>11.1</td>\n",
       "      <td>13.1</td>\n",
       "      <td>90</td>\n",
       "      <td>...</td>\n",
       "      <td>1</td>\n",
       "      <td>0</td>\n",
       "      <td>1</td>\n",
       "      <td>0</td>\n",
       "      <td>3</td>\n",
       "      <td>2</td>\n",
       "      <td>0.0</td>\n",
       "      <td>28000</td>\n",
       "      <td>40</td>\n",
       "      <td>7</td>\n",
       "    </tr>\n",
       "  </tbody>\n",
       "</table>\n",
       "<p>5 rows × 21 columns</p>\n",
       "</div>"
      ],
      "text/plain": [
       "                date  ind  rain  ind.1  temp  ind.2  wetb  dewpt  vappr  rhum  \\\n",
       "0  16-sep-1956 15:00    0   0.0      0  14.4      0  12.1   10.0   12.4    76   \n",
       "1  16-sep-1956 16:00    0   0.0      0  13.9      0  11.6    9.4   11.9    75   \n",
       "2  16-sep-1956 17:00    0   0.0      0  14.2      0  12.0   10.0   12.3    76   \n",
       "3  16-sep-1956 18:00    0   0.0      0  13.0      0  11.6   10.0   12.6    85   \n",
       "4  16-sep-1956 19:00    0   0.0      0  12.6      0  11.7   11.1   13.1    90   \n",
       "\n",
       "   ...  ind.3  wdsp ind.4  wddir ww  w  sun    vis clht clamt  \n",
       "0  ...      1     0     1      0  1  2  0.1  16000  200     5  \n",
       "1  ...      1     0     1      0  1  1  0.1  24000  999     4  \n",
       "2  ...      1     0     1      0  3  1  0.4  19000   90     5  \n",
       "3  ...      1     0     1      0  1  1  0.0  30000   45     4  \n",
       "4  ...      1     0     1      0  3  2  0.0  28000   40     7  \n",
       "\n",
       "[5 rows x 21 columns]"
      ]
     },
     "execution_count": 21,
     "metadata": {},
     "output_type": "execute_result"
    }
   ],
   "source": [
    "belmullet_df.head()"
   ]
  },
  {
   "cell_type": "code",
   "execution_count": 31,
   "metadata": {},
   "outputs": [
    {
     "name": "stdout",
     "output_type": "stream",
     "text": [
      "01-apr-1957 00:00\n",
      "31-oct-2022 23:00\n"
     ]
    }
   ],
   "source": [
    "print(belmullet_df[\"date\"].min())\n",
    "print(belmullet_df[\"date\"].max())"
   ]
  },
  {
   "attachments": {},
   "cell_type": "markdown",
   "metadata": {},
   "source": [
    "We have hourly data from 1957 to 2022. "
   ]
  },
  {
   "attachments": {},
   "cell_type": "markdown",
   "metadata": {},
   "source": [
    "## Dublin"
   ]
  },
  {
   "cell_type": "code",
   "execution_count": 33,
   "metadata": {},
   "outputs": [
    {
     "name": "stderr",
     "output_type": "stream",
     "text": [
      "/Users/jamesmoro/Documents/Python/Excess-Energy-Prediction/gcp_interaction.py:78: ParserWarning: Falling back to the 'python' engine because the 'c' engine does not support regex separators (separators > 1 char and different from '\\s+' are interpreted as regex); you can avoid this warning by specifying engine='python'.\n",
      "  return pd.read_csv(StringIO(data_str), **kwargs)\n"
     ]
    }
   ],
   "source": [
    "dublin_dir = r\"Raw_Data/met/DUBLIN AIRPORT/dublin.csv\"\n",
    "dublin_df = read_blob_to_pandas(bucket_name, dublin_dir, header=20, low_memory=False)\n",
    "dublin_key_df = read_blob_to_pandas(\n",
    "    bucket_name, dublin_dir, sep=\"delimiter\", header=None\n",
    ")"
   ]
  },
  {
   "cell_type": "code",
   "execution_count": 36,
   "metadata": {},
   "outputs": [
    {
     "data": {
      "text/plain": [
       "['Station Name: DUBLIN AIRPORT',\n",
       " 'Station Height: 71 M',\n",
       " 'Latitude:53.428  ,Longitude: -6.241',\n",
       " 'date:  -  Date and Time (utc)',\n",
       " 'rain:  -  Precipitation Amount (mm)',\n",
       " 'temp:  -  Air Temperature (C)',\n",
       " 'wetb:  -  Wet Bulb Temperature (C)',\n",
       " 'dewpt: -  Dew Point Temperature (C)',\n",
       " 'rhum:  -  Relative Humidity (%)',\n",
       " 'vappr: -  Vapour Pressure (hPa)',\n",
       " 'msl:   -  Mean Sea Level Pressure (hPa)',\n",
       " 'wdsp:  -  Mean Wind Speed (knot)',\n",
       " 'wddir: -  Predominant Wind Direction (degree)',\n",
       " 'ww:    -  Synop code for Present Weather',\n",
       " 'w:     -  Synop code for Past Weather',\n",
       " 'sun:   -  Sunshine duration (hours)',\n",
       " 'vis:   -  Visibility (m)',\n",
       " \"clht:  -  Cloud height (100's of ft) - 999 if none\",\n",
       " 'clamt: -  Cloud amount',\n",
       " 'ind:   -  Indicator']"
      ]
     },
     "execution_count": 36,
     "metadata": {},
     "output_type": "execute_result"
    }
   ],
   "source": [
    "dublin_info = dublin_key_df[:20][0].to_list()\n",
    "del dublin_key_df\n",
    "dublin_info"
   ]
  },
  {
   "cell_type": "code",
   "execution_count": 37,
   "metadata": {},
   "outputs": [
    {
     "name": "stdout",
     "output_type": "stream",
     "text": [
      "<class 'pandas.core.frame.DataFrame'>\n",
      "RangeIndex: 701936 entries, 0 to 701935\n",
      "Data columns (total 21 columns):\n",
      " #   Column  Non-Null Count   Dtype  \n",
      "---  ------  --------------   -----  \n",
      " 0   date    701936 non-null  object \n",
      " 1   ind     701936 non-null  int64  \n",
      " 2   rain    701936 non-null  float64\n",
      " 3   ind.1   701936 non-null  int64  \n",
      " 4   temp    701936 non-null  float64\n",
      " 5   ind.2   701936 non-null  int64  \n",
      " 6   wetb    701936 non-null  float64\n",
      " 7   dewpt   701936 non-null  float64\n",
      " 8   vappr   701936 non-null  object \n",
      " 9   rhum    701936 non-null  object \n",
      " 10  msl     701936 non-null  float64\n",
      " 11  ind.3   701936 non-null  int64  \n",
      " 12  wdsp    701936 non-null  int64  \n",
      " 13  ind.4   701936 non-null  int64  \n",
      " 14  wddir   701936 non-null  object \n",
      " 15  ww      701936 non-null  int64  \n",
      " 16  w       701936 non-null  int64  \n",
      " 17  sun     701936 non-null  float64\n",
      " 18  vis     701936 non-null  object \n",
      " 19  clht    701936 non-null  object \n",
      " 20  clamt   701936 non-null  object \n",
      "dtypes: float64(6), int64(8), object(7)\n",
      "memory usage: 112.5+ MB\n"
     ]
    }
   ],
   "source": [
    "dublin_df.info()"
   ]
  },
  {
   "cell_type": "code",
   "execution_count": 38,
   "metadata": {},
   "outputs": [
    {
     "data": {
      "text/html": [
       "<div>\n",
       "<style scoped>\n",
       "    .dataframe tbody tr th:only-of-type {\n",
       "        vertical-align: middle;\n",
       "    }\n",
       "\n",
       "    .dataframe tbody tr th {\n",
       "        vertical-align: top;\n",
       "    }\n",
       "\n",
       "    .dataframe thead th {\n",
       "        text-align: right;\n",
       "    }\n",
       "</style>\n",
       "<table border=\"1\" class=\"dataframe\">\n",
       "  <thead>\n",
       "    <tr style=\"text-align: right;\">\n",
       "      <th></th>\n",
       "      <th>date</th>\n",
       "      <th>ind</th>\n",
       "      <th>rain</th>\n",
       "      <th>ind.1</th>\n",
       "      <th>temp</th>\n",
       "      <th>ind.2</th>\n",
       "      <th>wetb</th>\n",
       "      <th>dewpt</th>\n",
       "      <th>vappr</th>\n",
       "      <th>rhum</th>\n",
       "      <th>...</th>\n",
       "      <th>ind.3</th>\n",
       "      <th>wdsp</th>\n",
       "      <th>ind.4</th>\n",
       "      <th>wddir</th>\n",
       "      <th>ww</th>\n",
       "      <th>w</th>\n",
       "      <th>sun</th>\n",
       "      <th>vis</th>\n",
       "      <th>clht</th>\n",
       "      <th>clamt</th>\n",
       "    </tr>\n",
       "  </thead>\n",
       "  <tbody>\n",
       "    <tr>\n",
       "      <th>0</th>\n",
       "      <td>01-jan-1943 00:00</td>\n",
       "      <td>0</td>\n",
       "      <td>0.4</td>\n",
       "      <td>0</td>\n",
       "      <td>7.2</td>\n",
       "      <td>0</td>\n",
       "      <td>6.8</td>\n",
       "      <td>6.1</td>\n",
       "      <td>9.5</td>\n",
       "      <td>93</td>\n",
       "      <td>...</td>\n",
       "      <td>1</td>\n",
       "      <td>13</td>\n",
       "      <td>1</td>\n",
       "      <td>240</td>\n",
       "      <td>61</td>\n",
       "      <td>6</td>\n",
       "      <td>0.0</td>\n",
       "      <td>10000</td>\n",
       "      <td>9</td>\n",
       "      <td>8</td>\n",
       "    </tr>\n",
       "    <tr>\n",
       "      <th>1</th>\n",
       "      <td>01-jan-1943 01:00</td>\n",
       "      <td>0</td>\n",
       "      <td>0.7</td>\n",
       "      <td>0</td>\n",
       "      <td>7.8</td>\n",
       "      <td>0</td>\n",
       "      <td>7.6</td>\n",
       "      <td>7.2</td>\n",
       "      <td>10.2</td>\n",
       "      <td>96</td>\n",
       "      <td>...</td>\n",
       "      <td>1</td>\n",
       "      <td>19</td>\n",
       "      <td>1</td>\n",
       "      <td>240</td>\n",
       "      <td>61</td>\n",
       "      <td>6</td>\n",
       "      <td>0.0</td>\n",
       "      <td>10000</td>\n",
       "      <td>8</td>\n",
       "      <td>8</td>\n",
       "    </tr>\n",
       "    <tr>\n",
       "      <th>2</th>\n",
       "      <td>01-jan-1943 02:00</td>\n",
       "      <td>0</td>\n",
       "      <td>0.5</td>\n",
       "      <td>0</td>\n",
       "      <td>8.7</td>\n",
       "      <td>0</td>\n",
       "      <td>8.3</td>\n",
       "      <td>7.7</td>\n",
       "      <td>10.7</td>\n",
       "      <td>95</td>\n",
       "      <td>...</td>\n",
       "      <td>1</td>\n",
       "      <td>24</td>\n",
       "      <td>1</td>\n",
       "      <td>250</td>\n",
       "      <td>51</td>\n",
       "      <td>6</td>\n",
       "      <td>0.0</td>\n",
       "      <td>7000</td>\n",
       "      <td>7</td>\n",
       "      <td>8</td>\n",
       "    </tr>\n",
       "    <tr>\n",
       "      <th>3</th>\n",
       "      <td>01-jan-1943 03:00</td>\n",
       "      <td>2</td>\n",
       "      <td>0.0</td>\n",
       "      <td>0</td>\n",
       "      <td>9.1</td>\n",
       "      <td>0</td>\n",
       "      <td>8.7</td>\n",
       "      <td>8.3</td>\n",
       "      <td>11.0</td>\n",
       "      <td>95</td>\n",
       "      <td>...</td>\n",
       "      <td>1</td>\n",
       "      <td>24</td>\n",
       "      <td>1</td>\n",
       "      <td>270</td>\n",
       "      <td>50</td>\n",
       "      <td>6</td>\n",
       "      <td>0.0</td>\n",
       "      <td>10000</td>\n",
       "      <td>9</td>\n",
       "      <td>7</td>\n",
       "    </tr>\n",
       "    <tr>\n",
       "      <th>4</th>\n",
       "      <td>01-jan-1943 04:00</td>\n",
       "      <td>2</td>\n",
       "      <td>0.0</td>\n",
       "      <td>0</td>\n",
       "      <td>9.4</td>\n",
       "      <td>0</td>\n",
       "      <td>8.8</td>\n",
       "      <td>8.3</td>\n",
       "      <td>10.9</td>\n",
       "      <td>93</td>\n",
       "      <td>...</td>\n",
       "      <td>1</td>\n",
       "      <td>24</td>\n",
       "      <td>1</td>\n",
       "      <td>270</td>\n",
       "      <td>50</td>\n",
       "      <td>5</td>\n",
       "      <td>0.0</td>\n",
       "      <td>10000</td>\n",
       "      <td>8</td>\n",
       "      <td>8</td>\n",
       "    </tr>\n",
       "  </tbody>\n",
       "</table>\n",
       "<p>5 rows × 21 columns</p>\n",
       "</div>"
      ],
      "text/plain": [
       "                date  ind  rain  ind.1  temp  ind.2  wetb  dewpt vappr rhum  \\\n",
       "0  01-jan-1943 00:00    0   0.4      0   7.2      0   6.8    6.1   9.5   93   \n",
       "1  01-jan-1943 01:00    0   0.7      0   7.8      0   7.6    7.2  10.2   96   \n",
       "2  01-jan-1943 02:00    0   0.5      0   8.7      0   8.3    7.7  10.7   95   \n",
       "3  01-jan-1943 03:00    2   0.0      0   9.1      0   8.7    8.3  11.0   95   \n",
       "4  01-jan-1943 04:00    2   0.0      0   9.4      0   8.8    8.3  10.9   93   \n",
       "\n",
       "   ...  ind.3  wdsp  ind.4  wddir  ww  w  sun    vis clht clamt  \n",
       "0  ...      1    13      1    240  61  6  0.0  10000    9     8  \n",
       "1  ...      1    19      1    240  61  6  0.0  10000    8     8  \n",
       "2  ...      1    24      1    250  51  6  0.0   7000    7     8  \n",
       "3  ...      1    24      1    270  50  6  0.0  10000    9     7  \n",
       "4  ...      1    24      1    270  50  5  0.0  10000    8     8  \n",
       "\n",
       "[5 rows x 21 columns]"
      ]
     },
     "execution_count": 38,
     "metadata": {},
     "output_type": "execute_result"
    }
   ],
   "source": [
    "dublin_df.head()"
   ]
  },
  {
   "cell_type": "code",
   "execution_count": 39,
   "metadata": {},
   "outputs": [
    {
     "name": "stdout",
     "output_type": "stream",
     "text": [
      "01-apr-1943 00:00\n",
      "31-oct-2022 23:00\n"
     ]
    }
   ],
   "source": [
    "print(dublin_df[\"date\"].min())\n",
    "print(dublin_df[\"date\"].max())"
   ]
  },
  {
   "cell_type": "code",
   "execution_count": null,
   "metadata": {},
   "outputs": [],
   "source": []
  }
 ],
 "metadata": {
  "kernelspec": {
   "display_name": "energy",
   "language": "python",
   "name": "python3"
  },
  "language_info": {
   "codemirror_mode": {
    "name": "ipython",
    "version": 3
   },
   "file_extension": ".py",
   "mimetype": "text/x-python",
   "name": "python",
   "nbconvert_exporter": "python",
   "pygments_lexer": "ipython3",
   "version": "3.10.9"
  },
  "orig_nbformat": 4,
  "vscode": {
   "interpreter": {
    "hash": "615d221a9ceee56c45717180d0e45e4f48445eec22bbc2adcd283093611382ad"
   }
  }
 },
 "nbformat": 4,
 "nbformat_minor": 2
}
